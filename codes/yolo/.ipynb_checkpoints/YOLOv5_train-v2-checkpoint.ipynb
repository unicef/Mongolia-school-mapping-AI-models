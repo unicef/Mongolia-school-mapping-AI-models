{
 "cells": [
  {
   "cell_type": "code",
   "execution_count": 1,
   "metadata": {
    "id": "bToLD9zQ--cd"
   },
   "outputs": [
    {
     "name": "stdout",
     "output_type": "stream",
     "text": [
      "Cloning into 'yolov5'...\n",
      "remote: Enumerating objects: 15105, done.\u001b[K\n",
      "remote: Counting objects: 100% (60/60), done.\u001b[K\n",
      "remote: Compressing objects: 100% (49/49), done.\u001b[K\n",
      "remote: Total 15105 (delta 28), reused 28 (delta 11), pack-reused 15045\u001b[K\n",
      "Receiving objects: 100% (15105/15105), 14.19 MiB | 7.69 MiB/s, done.\n",
      "Resolving deltas: 100% (10339/10339), done.\n",
      "Updating files: 100% (141/141), done.\n"
     ]
    }
   ],
   "source": [
    "# clone YOLOv5 repo\n",
    "!git clone https://github.com/ultralytics/yolov5\n",
    "\n",
    "# install dependencies\n",
    "#!pip install -U -r yolov5/requirements.txt"
   ]
  },
  {
   "cell_type": "code",
   "execution_count": 2,
   "metadata": {},
   "outputs": [
    {
     "name": "stdout",
     "output_type": "stream",
     "text": [
      "/mnt/batch/tasks/shared/LS_root/mounts/clusters/ai-model-training/code/Users/imaduako/YOLOv5_baseline_model\n"
     ]
    }
   ],
   "source": [
    "#% cd Users/imaduako/YOLOv5_baseline_model\n",
    "!pwd"
   ]
  },
  {
   "cell_type": "code",
   "execution_count": 36,
   "metadata": {
    "id": "vW3m9Kt2CFoZ"
   },
   "outputs": [],
   "source": [
    "import os\n",
    "import yaml\n",
    "\n",
    "yolov5_folder = \"/mnt/batch/tasks/shared/LS_root/mounts/clusters/ai-model-training/code/Users/imaduako/YOLOv5_baseline_model/yolov5\"\n",
    "DATASET_FOLDER = \"/mnt/batch/tasks/shared/LS_root/mounts/clusters/ai-model-training/code/Users/imaduako/YOLOv5_baseline_model/Mongolia/dataset\""
   ]
  },
  {
   "cell_type": "code",
   "execution_count": 19,
   "metadata": {},
   "outputs": [
    {
     "data": {
      "text/plain": [
       "True"
      ]
     },
     "execution_count": 19,
     "metadata": {},
     "output_type": "execute_result"
    }
   ],
   "source": [
    "os.path.exists(DATASET_FOLDER)"
   ]
  },
  {
   "cell_type": "markdown",
   "metadata": {
    "id": "jWQKnsuQCByR"
   },
   "source": [
    "## Augmentations"
   ]
  },
  {
   "cell_type": "code",
   "execution_count": 37,
   "metadata": {
    "id": "euXdeNyjAa2w"
   },
   "outputs": [],
   "source": [
    "# change config\n",
    "\n",
    "hyp_dir = os.path.join(yolov5_folder, \"data/hyps/hyp.scratch-med.yaml\")\n",
    "\n",
    "with open(hyp_dir, \"r\") as stream:\n",
    "    config = yaml.safe_load(stream)\n",
    "\n",
    "config['mosaic'] = 0.0\n",
    "config['scale'] = 0.0\n",
    "config['flipud'] = 0.5\n",
    "config['degrees'] = 0.5\n",
    "config['mixup'] = 0.0\n",
    "\n",
    "# write data.yaml file to 'content/' directory\n",
    "with open(hyp_dir, 'w') as outfile:\n",
    "    yaml.dump(config, outfile, default_flow_style=True)"
   ]
  },
  {
   "cell_type": "markdown",
   "metadata": {
    "id": "cXGtLWVDDGko"
   },
   "source": [
    "## Create yaml file"
   ]
  },
  {
   "cell_type": "code",
   "execution_count": 38,
   "metadata": {
    "colab": {
     "base_uri": "https://localhost:8080/"
    },
    "id": "dlrdqvOaB2LS",
    "outputId": "72655238-8029-49fd-8e4d-2dbd7c6ff4d6"
   },
   "outputs": [
    {
     "name": "stdout",
     "output_type": "stream",
     "text": [
      "{names: [school], nc: 1, test: /mnt/batch/tasks/shared/LS_root/mounts/clusters/ai-model-training/code/Users/imaduako/YOLOv5_baseline_model/Mongolia/dataset/test,\n",
      "  train: /mnt/batch/tasks/shared/LS_root/mounts/clusters/ai-model-training/code/Users/imaduako/YOLOv5_baseline_model/Mongolia/dataset/train,\n",
      "  val: /mnt/batch/tasks/shared/LS_root/mounts/clusters/ai-model-training/code/Users/imaduako/YOLOv5_baseline_model/Mongolia/dataset/valid}\n"
     ]
    }
   ],
   "source": [
    "data_yaml = dict(\n",
    "    train = f\"{DATASET_FOLDER}/train\",\n",
    "    val = f\"{DATASET_FOLDER}/valid\",\n",
    "    #test = f\"{DATASET_FOLDER}/test\",\n",
    "\n",
    "    nc = 1,\n",
    "    names = ['school']\n",
    ")\n",
    "\n",
    "yaml_dir = os.path.join(DATASET_FOLDER, 'data.yaml')\n",
    "\n",
    "# write data.yaml file to 'content/' directory\n",
    "with open(yaml_dir, 'w') as outfile:\n",
    "    yaml.dump(data_yaml, outfile, default_flow_style=True)\n",
    "    \n",
    "#%cat /content/dataset/data.yaml\n",
    "%cat {yaml_dir}"
   ]
  },
  {
   "cell_type": "code",
   "execution_count": 39,
   "metadata": {
    "id": "0wZj-ROaCyne"
   },
   "outputs": [],
   "source": [
    "BATCH_SIZE = 32\n",
    "IMG_SIZE = 512\n",
    "\n",
    "EPOCHS = 50\n",
    "project_folder = 'runs'"
   ]
  },
  {
   "cell_type": "code",
   "execution_count": 40,
   "metadata": {
    "colab": {
     "base_uri": "https://localhost:8080/"
    },
    "id": "n5UJtaWoCyiA",
    "outputId": "acefca3f-2899-4f61-fc45-a0981ca83d51"
   },
   "outputs": [
    {
     "name": "stdout",
     "output_type": "stream",
     "text": [
      "/mnt/batch/tasks/shared/LS_root/mounts/clusters/ai-model-training/code/Users/imaduako/YOLOv5_baseline_model/yolov5\n",
      "WARNING ⚠️ Python 3.7.0 is required by YOLOv5, but Python 3.6.9 is currently installed\n",
      "\u001b[34m\u001b[1mtrain: \u001b[0mweights=yolov5l.pt, cfg=, data=/mnt/batch/tasks/shared/LS_root/mounts/clusters/ai-model-training/code/Users/imaduako/YOLOv5_baseline_model/Mongolia/dataset/data.yaml, hyp=/mnt/batch/tasks/shared/LS_root/mounts/clusters/ai-model-training/code/Users/imaduako/YOLOv5_baseline_model/yolov5/data/hyps/hyp.scratch-med.yaml, epochs=50, batch_size=32, imgsz=512, rect=False, resume=False, nosave=False, noval=False, noautoanchor=False, noplots=False, evolve=None, bucket=, cache=None, image_weights=False, device=, multi_scale=False, single_cls=False, optimizer=SGD, sync_bn=False, workers=8, project=runs, name=exp, exist_ok=False, quad=False, cos_lr=False, label_smoothing=0.0, patience=100, freeze=[0], save_period=-1, seed=0, local_rank=-1, entity=None, upload_dataset=False, bbox_interval=-1, artifact_alias=latest\n",
      "\u001b[34m\u001b[1mgithub: \u001b[0m⚠️ YOLOv5 is out of date by 15 commits. Use `git pull` or `git clone https://github.com/ultralytics/yolov5` to update.\n",
      "WARNING ⚠️ Python 3.7.0 is required by YOLOv5, but Python 3.6.9 is currently installed\n",
      "YOLOv5 🚀 v7.0-93-gd389840 Python-3.6.9 torch-1.10.2+cu102 CUDA:0 (Tesla K80, 11441MiB)\n",
      "\n",
      "\u001b[34m\u001b[1mhyperparameters: \u001b[0manchor_t=4.0, box=0.05, cls=0.3, cls_pw=1.0, copy_paste=0.0, degrees=0.5, fl_gamma=0.0, fliplr=0.5, flipud=0.5, hsv_h=0.015, hsv_s=0.7, hsv_v=0.4, iou_t=0.2, lr0=0.01, lrf=0.1, mixup=0.0, momentum=0.937, mosaic=0.0, obj=0.7, obj_pw=1.0, perspective=0.0, scale=0.0, shear=0.0, translate=0.1, warmup_bias_lr=0.1, warmup_epochs=3.0, warmup_momentum=0.8, weight_decay=0.0005\n",
      "\u001b[34m\u001b[1mClearML: \u001b[0mrun 'pip install clearml' to automatically track, visualize and remotely train YOLOv5 🚀 in ClearML\n",
      "\u001b[34m\u001b[1mComet: \u001b[0mrun 'pip install comet_ml' to automatically track and visualize YOLOv5 🚀 runs in Comet\n",
      "\u001b[34m\u001b[1mTensorBoard: \u001b[0mStart with 'tensorboard --logdir runs', view at http://localhost:6006/\n",
      "Overriding model.yaml nc=80 with nc=1\n",
      "\n",
      "                 from  n    params  module                                  arguments                     \n",
      "  0                -1  1      7040  models.common.Conv                      [3, 64, 6, 2, 2]              \n",
      "  1                -1  1     73984  models.common.Conv                      [64, 128, 3, 2]               \n",
      "  2                -1  3    156928  models.common.C3                        [128, 128, 3]                 \n",
      "  3                -1  1    295424  models.common.Conv                      [128, 256, 3, 2]              \n",
      "  4                -1  6   1118208  models.common.C3                        [256, 256, 6]                 \n",
      "  5                -1  1   1180672  models.common.Conv                      [256, 512, 3, 2]              \n",
      "  6                -1  9   6433792  models.common.C3                        [512, 512, 9]                 \n",
      "  7                -1  1   4720640  models.common.Conv                      [512, 1024, 3, 2]             \n",
      "  8                -1  3   9971712  models.common.C3                        [1024, 1024, 3]               \n",
      "  9                -1  1   2624512  models.common.SPPF                      [1024, 1024, 5]               \n",
      " 10                -1  1    525312  models.common.Conv                      [1024, 512, 1, 1]             \n",
      " 11                -1  1         0  torch.nn.modules.upsampling.Upsample    [None, 2, 'nearest']          \n",
      " 12           [-1, 6]  1         0  models.common.Concat                    [1]                           \n",
      " 13                -1  3   2757632  models.common.C3                        [1024, 512, 3, False]         \n",
      " 14                -1  1    131584  models.common.Conv                      [512, 256, 1, 1]              \n",
      " 15                -1  1         0  torch.nn.modules.upsampling.Upsample    [None, 2, 'nearest']          \n",
      " 16           [-1, 4]  1         0  models.common.Concat                    [1]                           \n",
      " 17                -1  3    690688  models.common.C3                        [512, 256, 3, False]          \n",
      " 18                -1  1    590336  models.common.Conv                      [256, 256, 3, 2]              \n",
      " 19          [-1, 14]  1         0  models.common.Concat                    [1]                           \n",
      " 20                -1  3   2495488  models.common.C3                        [512, 512, 3, False]          \n",
      " 21                -1  1   2360320  models.common.Conv                      [512, 512, 3, 2]              \n",
      " 22          [-1, 10]  1         0  models.common.Concat                    [1]                           \n",
      " 23                -1  3   9971712  models.common.C3                        [1024, 1024, 3, False]        \n",
      " 24      [17, 20, 23]  1     32310  models.yolo.Detect                      [1, [[10, 13, 16, 30, 33, 23], [30, 61, 62, 45, 59, 119], [116, 90, 156, 198, 373, 326]], [256, 512, 1024]]\n",
      "Model summary: 368 layers, 46138294 parameters, 46138294 gradients, 108.2 GFLOPs\n",
      "\n",
      "Transferred 607/613 items from yolov5l.pt\n",
      "\u001b[34m\u001b[1mAMP: \u001b[0mchecks passed ✅\n",
      "\u001b[34m\u001b[1moptimizer:\u001b[0m SGD(lr=0.01) with parameter groups 101 weight(decay=0.0), 104 weight(decay=0.0005), 104 bias\n",
      "\u001b[34m\u001b[1mtrain: \u001b[0mScanning /mnt/batch/tasks/shared/LS_root/mounts/clusters/ai-model-trainin\u001b[0m\n",
      "\u001b[34m\u001b[1mval: \u001b[0mScanning /mnt/batch/tasks/shared/LS_root/mounts/clusters/ai-model-training/\u001b[0m\n",
      "\n",
      "\u001b[34m\u001b[1mAutoAnchor: \u001b[0m3.53 anchors/target, 1.000 Best Possible Recall (BPR). Current anchors are a good fit to dataset ✅\n",
      "Plotting labels to runs/exp9/labels.jpg... \n",
      "Image sizes 512 train, 512 val\n",
      "Using 6 dataloader workers\n",
      "Logging results to \u001b[1mruns/exp9\u001b[0m\n",
      "Starting training for 50 epochs...\n",
      "\n",
      "      Epoch    GPU_mem   box_loss   obj_loss   cls_loss  Instances       Size\n",
      "       0/49      11.5G    0.07482    0.01316          0          8        512: 1\n",
      "                 Class     Images  Instances          P          R      mAP50   \n",
      "                   all        145        153      0.148     0.0719     0.0785     0.0182\n",
      "\n",
      "      Epoch    GPU_mem   box_loss   obj_loss   cls_loss  Instances       Size\n",
      "       1/49      11.1G    0.04849    0.01191          0          7        512: 1\n",
      "                 Class     Images  Instances          P          R      mAP50   \n",
      "                   all        145        153     0.0453      0.791      0.199     0.0519\n",
      "\n",
      "      Epoch    GPU_mem   box_loss   obj_loss   cls_loss  Instances       Size\n",
      "       2/49      11.1G    0.04265   0.009839          0          7        512: 1\n",
      "                 Class     Images  Instances          P          R      mAP50   \n",
      "                   all        145        153      0.288      0.436      0.244     0.0775\n",
      "\n",
      "      Epoch    GPU_mem   box_loss   obj_loss   cls_loss  Instances       Size\n",
      "       3/49      11.1G    0.03962   0.008923          0          7        512: 1\n",
      "                 Class     Images  Instances          P          R      mAP50   \n",
      "                   all        145        153      0.222      0.399      0.193     0.0598\n",
      "\n",
      "      Epoch    GPU_mem   box_loss   obj_loss   cls_loss  Instances       Size\n",
      "       4/49      11.1G    0.03984   0.007823          0          7        512: 1\n",
      "                 Class     Images  Instances          P          R      mAP50   \n",
      "                   all        145        153      0.204      0.523      0.234      0.076\n",
      "\n",
      "      Epoch    GPU_mem   box_loss   obj_loss   cls_loss  Instances       Size\n",
      "       5/49      11.1G     0.0363   0.007503          0          7        512: 1\n",
      "                 Class     Images  Instances          P          R      mAP50   \n",
      "                   all        145        153      0.344      0.484      0.338     0.0975\n",
      "\n",
      "      Epoch    GPU_mem   box_loss   obj_loss   cls_loss  Instances       Size\n",
      "       6/49      11.1G    0.03646   0.006939          0          8        512: 1\n",
      "                 Class     Images  Instances          P          R      mAP50   \n",
      "                   all        145        153      0.412      0.563        0.4      0.139\n",
      "\n",
      "      Epoch    GPU_mem   box_loss   obj_loss   cls_loss  Instances       Size\n",
      "       7/49      11.1G    0.03518   0.007007          0          8        512: 1\n",
      "                 Class     Images  Instances          P          R      mAP50   \n",
      "                   all        145        153      0.324      0.314      0.232     0.0538\n",
      "\n",
      "      Epoch    GPU_mem   box_loss   obj_loss   cls_loss  Instances       Size\n",
      "       8/49      11.1G    0.03737   0.006775          0          8        512: 1\n",
      "                 Class     Images  Instances          P          R      mAP50   \n",
      "                   all        145        153      0.387      0.588       0.41      0.172\n",
      "\n",
      "      Epoch    GPU_mem   box_loss   obj_loss   cls_loss  Instances       Size\n",
      "       9/49      11.1G    0.03181   0.006619          0          8        512: 1\n",
      "                 Class     Images  Instances          P          R      mAP50   \n",
      "                   all        145        153       0.36      0.379      0.297      0.088\n",
      "\n",
      "      Epoch    GPU_mem   box_loss   obj_loss   cls_loss  Instances       Size\n",
      "      10/49      11.1G    0.03343   0.006518          0          7        512: 1\n",
      "                 Class     Images  Instances          P          R      mAP50   \n",
      "                   all        145        153      0.308      0.431      0.262      0.089\n",
      "\n",
      "      Epoch    GPU_mem   box_loss   obj_loss   cls_loss  Instances       Size\n",
      "      11/49      11.1G    0.03388   0.006509          0          7        512: 1\n",
      "                 Class     Images  Instances          P          R      mAP50   \n",
      "                   all        145        153      0.511      0.549      0.508      0.195\n",
      "\n",
      "      Epoch    GPU_mem   box_loss   obj_loss   cls_loss  Instances       Size\n",
      "      12/49      11.1G    0.03259   0.006474          0          7        512: 1\n",
      "                 Class     Images  Instances          P          R      mAP50   \n",
      "                   all        145        153      0.541      0.469      0.423      0.186\n",
      "\n",
      "      Epoch    GPU_mem   box_loss   obj_loss   cls_loss  Instances       Size\n",
      "      13/49      11.1G    0.02891   0.006443          0          8        512: 1\n",
      "                 Class     Images  Instances          P          R      mAP50   \n",
      "                   all        145        153      0.562      0.588      0.576      0.249\n",
      "\n",
      "      Epoch    GPU_mem   box_loss   obj_loss   cls_loss  Instances       Size\n",
      "      14/49      11.1G    0.02943   0.006392          0          8        512: 1\n",
      "                 Class     Images  Instances          P          R      mAP50   \n",
      "                   all        145        153      0.484      0.534      0.496      0.204\n",
      "\n",
      "      Epoch    GPU_mem   box_loss   obj_loss   cls_loss  Instances       Size\n",
      "      15/49      11.1G    0.02794   0.006273          0          7        512: 1\n",
      "                 Class     Images  Instances          P          R      mAP50   \n",
      "                   all        145        153      0.505      0.686      0.541      0.265\n",
      "\n",
      "      Epoch    GPU_mem   box_loss   obj_loss   cls_loss  Instances       Size\n",
      "      16/49      11.1G    0.02914   0.006148          0          8        512: 1\n",
      "                 Class     Images  Instances          P          R      mAP50   \n",
      "                   all        145        153      0.497      0.595      0.542      0.276\n",
      "\n",
      "      Epoch    GPU_mem   box_loss   obj_loss   cls_loss  Instances       Size\n",
      "      17/49      11.1G    0.02816   0.005929          0          7        512: 1\n",
      "                 Class     Images  Instances          P          R      mAP50   \n",
      "                   all        145        153      0.542      0.634      0.598      0.309\n",
      "\n",
      "      Epoch    GPU_mem   box_loss   obj_loss   cls_loss  Instances       Size\n",
      "      18/49      11.1G    0.02712   0.005879          0          7        512: 1\n",
      "                 Class     Images  Instances          P          R      mAP50   \n",
      "                   all        145        153       0.54      0.569      0.552      0.302\n",
      "\n",
      "      Epoch    GPU_mem   box_loss   obj_loss   cls_loss  Instances       Size\n",
      "      19/49      11.1G    0.02611   0.005938          0          7        512: 1\n",
      "                 Class     Images  Instances          P          R      mAP50   \n",
      "                   all        145        153      0.569      0.627      0.584      0.277\n",
      "\n",
      "      Epoch    GPU_mem   box_loss   obj_loss   cls_loss  Instances       Size\n",
      "      20/49      11.1G    0.02833   0.005768          0          7        512: 1\n",
      "                 Class     Images  Instances          P          R      mAP50   \n",
      "                   all        145        153      0.679      0.641      0.618      0.318\n",
      "\n",
      "      Epoch    GPU_mem   box_loss   obj_loss   cls_loss  Instances       Size\n",
      "      21/49      11.1G    0.02725   0.005767          0          7        512: 1\n",
      "                 Class     Images  Instances          P          R      mAP50   \n",
      "                   all        145        153       0.56      0.601      0.573      0.268\n",
      "\n",
      "      Epoch    GPU_mem   box_loss   obj_loss   cls_loss  Instances       Size\n",
      "      22/49      11.1G    0.02641   0.005662          0          7        512: 1\n",
      "                 Class     Images  Instances          P          R      mAP50   \n",
      "                   all        145        153      0.675      0.652      0.651      0.345\n",
      "\n",
      "      Epoch    GPU_mem   box_loss   obj_loss   cls_loss  Instances       Size\n",
      "      23/49      11.1G    0.02753   0.005471          0          6        512: 1\n",
      "                 Class     Images  Instances          P          R      mAP50   \n",
      "                   all        145        153      0.598      0.632      0.627      0.344\n",
      "\n",
      "      Epoch    GPU_mem   box_loss   obj_loss   cls_loss  Instances       Size\n",
      "      24/49      11.1G     0.0252   0.005432          0          8        512: 1\n",
      "                 Class     Images  Instances          P          R      mAP50   \n",
      "                   all        145        153      0.586      0.612      0.605      0.344\n",
      "\n",
      "      Epoch    GPU_mem   box_loss   obj_loss   cls_loss  Instances       Size\n",
      "      25/49      11.1G     0.0234    0.00519          0          7        512: 1\n",
      "                 Class     Images  Instances          P          R      mAP50   \n",
      "                   all        145        153       0.63      0.645      0.622      0.368\n",
      "\n",
      "      Epoch    GPU_mem   box_loss   obj_loss   cls_loss  Instances       Size\n",
      "      26/49      11.1G    0.01962   0.005133          0          7        512: 1\n",
      "                 Class     Images  Instances          P          R      mAP50   \n",
      "                   all        145        153      0.619      0.692      0.649      0.354\n",
      "\n",
      "      Epoch    GPU_mem   box_loss   obj_loss   cls_loss  Instances       Size\n",
      "      27/49      11.1G    0.02161   0.005098          0          8        512: 1\n",
      "                 Class     Images  Instances          P          R      mAP50   \n",
      "                   all        145        153      0.614       0.66      0.632      0.338\n",
      "\n",
      "      Epoch    GPU_mem   box_loss   obj_loss   cls_loss  Instances       Size\n",
      "      28/49      11.1G    0.02144   0.004971          0          9        512: 1\n",
      "                 Class     Images  Instances          P          R      mAP50   \n",
      "                   all        145        153      0.597      0.658      0.648      0.345\n",
      "\n",
      "      Epoch    GPU_mem   box_loss   obj_loss   cls_loss  Instances       Size\n",
      "      29/49      11.1G    0.02039   0.004849          0          7        512: 1\n",
      "                 Class     Images  Instances          P          R      mAP50   \n",
      "                   all        145        153      0.633      0.641      0.645      0.374\n",
      "\n",
      "      Epoch    GPU_mem   box_loss   obj_loss   cls_loss  Instances       Size\n",
      "      30/49      11.1G    0.02126   0.004809          0          8        512: 1\n",
      "                 Class     Images  Instances          P          R      mAP50   \n",
      "                   all        145        153      0.617      0.673      0.641      0.342\n",
      "\n",
      "      Epoch    GPU_mem   box_loss   obj_loss   cls_loss  Instances       Size\n",
      "      31/49      11.1G    0.01998   0.004637          0          7        512: 1\n",
      "                 Class     Images  Instances          P          R      mAP50   \n",
      "                   all        145        153      0.592      0.647      0.647      0.379\n",
      "\n",
      "      Epoch    GPU_mem   box_loss   obj_loss   cls_loss  Instances       Size\n",
      "      32/49      11.1G    0.02031   0.004601          0          7        512: 1\n",
      "                 Class     Images  Instances          P          R      mAP50   \n",
      "                   all        145        153       0.56      0.634      0.565      0.346\n",
      "\n",
      "      Epoch    GPU_mem   box_loss   obj_loss   cls_loss  Instances       Size\n",
      "      33/49      11.1G    0.01842   0.004362          0          7        512: 1\n",
      "                 Class     Images  Instances          P          R      mAP50   \n",
      "                   all        145        153      0.601      0.639      0.609      0.374\n",
      "\n",
      "      Epoch    GPU_mem   box_loss   obj_loss   cls_loss  Instances       Size\n",
      "      34/49      11.1G    0.01834   0.004215          0          7        512: 1\n",
      "                 Class     Images  Instances          P          R      mAP50   \n",
      "                   all        145        153      0.586      0.601      0.573      0.348\n",
      "\n",
      "      Epoch    GPU_mem   box_loss   obj_loss   cls_loss  Instances       Size\n",
      "      35/49      11.1G     0.0163   0.004183          0          9        512: 1\n",
      "                 Class     Images  Instances          P          R      mAP50   \n",
      "                   all        145        153      0.665      0.601       0.63      0.377\n",
      "\n",
      "      Epoch    GPU_mem   box_loss   obj_loss   cls_loss  Instances       Size\n",
      "      36/49      11.1G    0.01927   0.004094          0          7        512: 1\n",
      "                 Class     Images  Instances          P          R      mAP50   \n",
      "                   all        145        153      0.616      0.614      0.633        0.4\n",
      "\n",
      "      Epoch    GPU_mem   box_loss   obj_loss   cls_loss  Instances       Size\n",
      "      37/49      11.1G    0.01616   0.003974          0          8        512: 1\n",
      "                 Class     Images  Instances          P          R      mAP50   \n",
      "                   all        145        153      0.618       0.66      0.625      0.365\n",
      "\n",
      "      Epoch    GPU_mem   box_loss   obj_loss   cls_loss  Instances       Size\n",
      "      38/49      11.1G    0.01568   0.003889          0          7        512: 1\n",
      "                 Class     Images  Instances          P          R      mAP50   \n",
      "                   all        145        153       0.71      0.595      0.613      0.369\n",
      "\n",
      "      Epoch    GPU_mem   box_loss   obj_loss   cls_loss  Instances       Size\n",
      "      39/49      11.1G    0.01492   0.003777          0          8        512: 1\n",
      "                 Class     Images  Instances          P          R      mAP50   \n",
      "                   all        145        153       0.69      0.595      0.619      0.365\n",
      "\n",
      "      Epoch    GPU_mem   box_loss   obj_loss   cls_loss  Instances       Size\n",
      "      40/49      11.1G    0.01586   0.003703          0          7        512: 1\n",
      "                 Class     Images  Instances          P          R      mAP50   \n",
      "                   all        145        153      0.642      0.641      0.636      0.379\n",
      "\n",
      "      Epoch    GPU_mem   box_loss   obj_loss   cls_loss  Instances       Size\n",
      "      41/49      11.1G    0.01563   0.003618          0          7        512: 1\n",
      "                 Class     Images  Instances          P          R      mAP50   \n",
      "                   all        145        153      0.585      0.673      0.602      0.364\n",
      "\n",
      "      Epoch    GPU_mem   box_loss   obj_loss   cls_loss  Instances       Size\n",
      "      42/49      11.1G    0.01533   0.003446          0          7        512: 1\n",
      "                 Class     Images  Instances          P          R      mAP50   \n",
      "                   all        145        153      0.648       0.68      0.638      0.377\n",
      "\n",
      "      Epoch    GPU_mem   box_loss   obj_loss   cls_loss  Instances       Size\n",
      "      43/49      11.1G    0.01312   0.003462          0          7        512: 1\n",
      "                 Class     Images  Instances          P          R      mAP50   \n",
      "                   all        145        153      0.654      0.643       0.63      0.367\n",
      "\n",
      "      Epoch    GPU_mem   box_loss   obj_loss   cls_loss  Instances       Size\n",
      "      44/49      11.1G    0.01442   0.003256          0          8        512: 1\n",
      "                 Class     Images  Instances          P          R      mAP50   \n",
      "                   all        145        153      0.689      0.608      0.641      0.375\n",
      "\n",
      "      Epoch    GPU_mem   box_loss   obj_loss   cls_loss  Instances       Size\n",
      "      45/49      11.1G    0.01261   0.003288          0          7        512: 1\n",
      "                 Class     Images  Instances          P          R      mAP50   \n",
      "                   all        145        153      0.619       0.68      0.633      0.372\n",
      "\n",
      "      Epoch    GPU_mem   box_loss   obj_loss   cls_loss  Instances       Size\n",
      "      46/49      11.1G     0.0136   0.003188          0          7        512: 1\n",
      "                 Class     Images  Instances          P          R      mAP50   \n",
      "                   all        145        153      0.672      0.608      0.619      0.364\n",
      "\n",
      "      Epoch    GPU_mem   box_loss   obj_loss   cls_loss  Instances       Size\n",
      "      47/49      11.1G    0.01387   0.003182          0          7        512: 1\n",
      "                 Class     Images  Instances          P          R      mAP50   \n",
      "                   all        145        153      0.657      0.654      0.627      0.355\n",
      "\n",
      "      Epoch    GPU_mem   box_loss   obj_loss   cls_loss  Instances       Size\n",
      "      48/49      11.1G    0.01276   0.003093          0          8        512: 1\n",
      "                 Class     Images  Instances          P          R      mAP50   \n",
      "                   all        145        153      0.608      0.686       0.62      0.359\n",
      "\n",
      "      Epoch    GPU_mem   box_loss   obj_loss   cls_loss  Instances       Size\n",
      "      49/49      11.1G    0.01082   0.002946          0          7        512: 1\n",
      "                 Class     Images  Instances          P          R      mAP50   \n",
      "                   all        145        153      0.627      0.673      0.605      0.374\n",
      "\n",
      "50 epochs completed in 1.334 hours.\n",
      "Optimizer stripped from runs/exp9/weights/last.pt, 92.8MB\n",
      "Optimizer stripped from runs/exp9/weights/best.pt, 92.8MB\n",
      "\n",
      "Validating runs/exp9/weights/best.pt...\n",
      "Fusing layers... \n",
      "Model summary: 267 layers, 46108278 parameters, 0 gradients, 107.6 GFLOPs\n",
      "                 Class     Images  Instances          P          R      mAP50   \n",
      "                   all        145        153      0.616      0.614      0.633        0.4\n",
      "Results saved to \u001b[1mruns/exp9\u001b[0m\n",
      "Exception ignored in: <bound method _MultiProcessingDataLoaderIter.__del__ of <torch.utils.data.dataloader._MultiProcessingDataLoaderIter object at 0x7fc481f3c208>>\n",
      "Traceback (most recent call last):\n",
      "  File \"/anaconda/envs/azureml_py36/lib/python3.6/site-packages/torch/utils/data/dataloader.py\", line 1328, in __del__\n",
      "  File \"/anaconda/envs/azureml_py36/lib/python3.6/site-packages/torch/utils/data/dataloader.py\", line 1262, in _shutdown_workers\n",
      "AttributeError: 'NoneType' object has no attribute 'python_exit_status'\n",
      "Exception ignored in: <bound method _MultiProcessingDataLoaderIter.__del__ of <torch.utils.data.dataloader._MultiProcessingDataLoaderIter object at 0x7fc4007c6c18>>\n",
      "Traceback (most recent call last):\n",
      "  File \"/anaconda/envs/azureml_py36/lib/python3.6/site-packages/torch/utils/data/dataloader.py\", line 1328, in __del__\n",
      "  File \"/anaconda/envs/azureml_py36/lib/python3.6/site-packages/torch/utils/data/dataloader.py\", line 1262, in _shutdown_workers\n",
      "AttributeError: 'NoneType' object has no attribute 'python_exit_status'\n",
      "/mnt/batch/tasks/shared/LS_root/mounts/clusters/ai-model-training/code/Users/imaduako/YOLOv5_baseline_model\n"
     ]
    }
   ],
   "source": [
    "%cd {yolov5_folder}\n",
    "\n",
    "!python train.py --img {IMG_SIZE} \\\n",
    "                 --batch {BATCH_SIZE} \\\n",
    "                 --epochs {EPOCHS} \\\n",
    "                 --data {yaml_dir} \\\n",
    "                 --weights yolov5l.pt \\\n",
    "                 --project {project_folder} \\\n",
    "                 --hyp {hyp_dir}\n",
    "                #  --workers 0\n",
    "                #  --save-period 1 \\\n",
    "\n",
    "%cd .."
   ]
  },
  {
   "cell_type": "markdown",
   "metadata": {
    "id": "wpWd0JWzLeR1"
   },
   "source": [
    "# Validation"
   ]
  },
  {
   "cell_type": "code",
   "execution_count": 41,
   "metadata": {
    "id": "q6m21b3JLy49"
   },
   "outputs": [],
   "source": [
    "weight_dir = \"/mnt/batch/tasks/shared/LS_root/mounts/clusters/ai-model-training/code/Users/imaduako/YOLOv5_baseline_model/yolov5/runs/exp5/weights/best.pt\"\n",
    "data_yaml_dir = \"/mnt/batch/tasks/shared/LS_root/mounts/clusters/ai-model-training/code/Users/imaduako/YOLOv5_baseline_model/Mongolia/dataset/data.yaml\"\n",
    "image_size = 512"
   ]
  },
  {
   "cell_type": "code",
   "execution_count": 42,
   "metadata": {
    "colab": {
     "base_uri": "https://localhost:8080/"
    },
    "id": "WAVcJ-YXCyZU",
    "outputId": "0cf424a9-c31a-436e-a9f1-6bd1804758bd"
   },
   "outputs": [
    {
     "name": "stdout",
     "output_type": "stream",
     "text": [
      "/mnt/batch/tasks/shared/LS_root/mounts/clusters/ai-model-training/code/Users/imaduako/YOLOv5_baseline_model/yolov5\n",
      "\u001b[34m\u001b[1mval: \u001b[0mdata=/mnt/batch/tasks/shared/LS_root/mounts/clusters/ai-model-training/code/Users/imaduako/YOLOv5_baseline_model/Mongolia/dataset/data.yaml, weights=['/mnt/batch/tasks/shared/LS_root/mounts/clusters/ai-model-training/code/Users/imaduako/YOLOv5_baseline_model/yolov5/runs/exp5/weights/best.pt'], batch_size=32, imgsz=512, conf_thres=0.001, iou_thres=0.6, max_det=300, task=train, device=, workers=8, single_cls=False, augment=False, verbose=False, save_txt=False, save_hybrid=False, save_conf=False, save_json=False, project=runs/val, name=exp, exist_ok=False, half=False, dnn=False\n",
      "WARNING ⚠️ Python 3.7.0 is required by YOLOv5, but Python 3.6.9 is currently installed\n",
      "YOLOv5 🚀 v7.0-93-gd389840 Python-3.6.9 torch-1.10.2+cu102 CUDA:0 (Tesla K80, 11441MiB)\n",
      "\n",
      "Fusing layers... \n",
      "Model summary: 267 layers, 46108278 parameters, 0 gradients, 107.6 GFLOPs\n",
      "\u001b[34m\u001b[1mtrain: \u001b[0mScanning /mnt/batch/tasks/shared/LS_root/mounts/clusters/ai-model-trainin\u001b[0m\n",
      "                 Class     Images  Instances          P          R      mAP50   \n",
      "                   all        647        683      0.945       0.95      0.981      0.865\n",
      "Speed: 0.3ms pre-process, 59.1ms inference, 1.8ms NMS per image at shape (32, 3, 512, 512)\n",
      "Results saved to \u001b[1mruns/val/exp10\u001b[0m\n",
      "/mnt/batch/tasks/shared/LS_root/mounts/clusters/ai-model-training/code/Users/imaduako/YOLOv5_baseline_model\n"
     ]
    }
   ],
   "source": [
    "%cd {yolov5_folder}\n",
    "\n",
    "!python val.py \\\n",
    "--weights {weight_dir} \\\n",
    "--data {data_yaml_dir} \\\n",
    "--img {image_size} \\\n",
    "--task train\n",
    "\n",
    "%cd .."
   ]
  },
  {
   "cell_type": "code",
   "execution_count": 43,
   "metadata": {},
   "outputs": [
    {
     "name": "stdout",
     "output_type": "stream",
     "text": [
      "/mnt/batch/tasks/shared/LS_root/mounts/clusters/ai-model-training/code/Users/imaduako/YOLOv5_baseline_model/yolov5\n",
      "\u001b[34m\u001b[1mval: \u001b[0mdata=/mnt/batch/tasks/shared/LS_root/mounts/clusters/ai-model-training/code/Users/imaduako/YOLOv5_baseline_model/Mongolia/dataset/data.yaml, weights=['/mnt/batch/tasks/shared/LS_root/mounts/clusters/ai-model-training/code/Users/imaduako/YOLOv5_baseline_model/yolov5/runs/exp5/weights/best.pt'], batch_size=32, imgsz=512, conf_thres=0.001, iou_thres=0.6, max_det=300, task=test, device=, workers=8, single_cls=False, augment=False, verbose=False, save_txt=False, save_hybrid=False, save_conf=False, save_json=False, project=runs/val, name=exp, exist_ok=False, half=False, dnn=False\n",
      "WARNING ⚠️ Python 3.7.0 is required by YOLOv5, but Python 3.6.9 is currently installed\n",
      "YOLOv5 🚀 v7.0-93-gd389840 Python-3.6.9 torch-1.10.2+cu102 CUDA:0 (Tesla K80, 11441MiB)\n",
      "\n",
      "Fusing layers... \n",
      "Model summary: 267 layers, 46108278 parameters, 0 gradients, 107.6 GFLOPs\n",
      "\u001b[34m\u001b[1mtest: \u001b[0mScanning /mnt/batch/tasks/shared/LS_root/mounts/clusters/ai-model-training\u001b[0m\n",
      "                 Class     Images  Instances          P          R      mAP50   \n",
      "                   all        145        147      0.692      0.728      0.724      0.447\n",
      "Speed: 0.3ms pre-process, 62.1ms inference, 6.5ms NMS per image at shape (32, 3, 512, 512)\n",
      "Results saved to \u001b[1mruns/val/exp11\u001b[0m\n",
      "/mnt/batch/tasks/shared/LS_root/mounts/clusters/ai-model-training/code/Users/imaduako/YOLOv5_baseline_model\n"
     ]
    }
   ],
   "source": [
    "%cd {yolov5_folder}\n",
    "\n",
    "!python val.py \\\n",
    "--weights {weight_dir} \\\n",
    "--data {data_yaml_dir} \\\n",
    "--img {image_size} \\\n",
    "--task test\n",
    "\n",
    "%cd .."
   ]
  },
  {
   "cell_type": "code",
   "execution_count": 44,
   "metadata": {},
   "outputs": [
    {
     "name": "stdout",
     "output_type": "stream",
     "text": [
      "/mnt/batch/tasks/shared/LS_root/mounts/clusters/ai-model-training/code/Users/imaduako/YOLOv5_baseline_model/yolov5\n",
      "\u001b[34m\u001b[1mval: \u001b[0mdata=/mnt/batch/tasks/shared/LS_root/mounts/clusters/ai-model-training/code/Users/imaduako/YOLOv5_baseline_model/Mongolia/dataset/data.yaml, weights=['/mnt/batch/tasks/shared/LS_root/mounts/clusters/ai-model-training/code/Users/imaduako/YOLOv5_baseline_model/yolov5/runs/exp5/weights/best.pt'], batch_size=32, imgsz=512, conf_thres=0.001, iou_thres=0.6, max_det=300, task=val, device=, workers=8, single_cls=False, augment=False, verbose=False, save_txt=False, save_hybrid=False, save_conf=False, save_json=False, project=runs/val, name=exp, exist_ok=False, half=False, dnn=False\n",
      "WARNING ⚠️ Python 3.7.0 is required by YOLOv5, but Python 3.6.9 is currently installed\n",
      "YOLOv5 🚀 v7.0-93-gd389840 Python-3.6.9 torch-1.10.2+cu102 CUDA:0 (Tesla K80, 11441MiB)\n",
      "\n",
      "Fusing layers... \n",
      "Model summary: 267 layers, 46108278 parameters, 0 gradients, 107.6 GFLOPs\n",
      "\u001b[34m\u001b[1mval: \u001b[0mScanning /mnt/batch/tasks/shared/LS_root/mounts/clusters/ai-model-training/\u001b[0m\n",
      "                 Class     Images  Instances          P          R      mAP50   \n",
      "                   all        145        153      0.664      0.693      0.634      0.392\n",
      "Speed: 0.3ms pre-process, 62.1ms inference, 4.9ms NMS per image at shape (32, 3, 512, 512)\n",
      "Results saved to \u001b[1mruns/val/exp12\u001b[0m\n",
      "/mnt/batch/tasks/shared/LS_root/mounts/clusters/ai-model-training/code/Users/imaduako/YOLOv5_baseline_model\n"
     ]
    }
   ],
   "source": [
    "%cd {yolov5_folder}\n",
    "\n",
    "!python val.py \\\n",
    "--weights {weight_dir} \\\n",
    "--data {data_yaml_dir} \\\n",
    "--img {image_size} \\\n",
    "--task val\n",
    "\n",
    "%cd .."
   ]
  },
  {
   "cell_type": "code",
   "execution_count": null,
   "metadata": {},
   "outputs": [],
   "source": []
  }
 ],
 "metadata": {
  "accelerator": "GPU",
  "colab": {
   "provenance": []
  },
  "gpuClass": "standard",
  "kernelspec": {
   "display_name": "Python 3.8 - PyTorch",
   "language": "python",
   "name": "azureml_py38_pytorch"
  },
  "language_info": {
   "codemirror_mode": {
    "name": "ipython",
    "version": 3
   },
   "file_extension": ".py",
   "mimetype": "text/x-python",
   "name": "python",
   "nbconvert_exporter": "python",
   "pygments_lexer": "ipython3",
   "version": "3.8.1"
  }
 },
 "nbformat": 4,
 "nbformat_minor": 4
}
