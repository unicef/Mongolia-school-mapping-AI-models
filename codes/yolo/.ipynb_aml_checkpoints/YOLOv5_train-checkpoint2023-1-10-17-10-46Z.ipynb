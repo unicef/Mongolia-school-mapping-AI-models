{
 "cells": [
  {
   "cell_type": "code",
   "execution_count": 20,
   "metadata": {
    "id": "bToLD9zQ--cd"
   },
   "outputs": [
    {
     "name": "stdout",
     "output_type": "stream",
     "text": [
      "Cloning into 'yolov5'...\n",
      "remote: Enumerating objects: 15105, done.\u001b[K\n",
      "remote: Counting objects: 100% (60/60), done.\u001b[K\n",
      "remote: Compressing objects: 100% (51/51), done.\u001b[K\n",
      "remote: Total 15105 (delta 26), reused 22 (delta 9), pack-reused 15045\u001b[K\n",
      "Receiving objects: 100% (15105/15105), 14.13 MiB | 17.18 MiB/s, done.\n",
      "Resolving deltas: 100% (10343/10343), done.\n"
     ]
    }
   ],
   "source": [
    "# clone YOLOv5 repo\n",
    "!git clone https://github.com/ultralytics/yolov5\n",
    "\n",
    "# install dependencies\n",
    "#!pip install -U -r yolov5/requirements.txt"
   ]
  },
  {
   "cell_type": "code",
   "execution_count": 29,
   "metadata": {},
   "outputs": [
    {
     "name": "stdout",
     "output_type": "stream",
     "text": [
      "/home/azureuser\n"
     ]
    }
   ],
   "source": [
    "#% cd Users/imaduako/YOLOv5_baseline_model\n",
    "!pwd"
   ]
  },
  {
   "cell_type": "code",
   "execution_count": 21,
   "metadata": {
    "id": "vW3m9Kt2CFoZ"
   },
   "outputs": [],
   "source": [
    "import os\n",
    "import yaml\n",
    "\n",
    "yolov5_folder = \"yolov5\"\n",
    "DATASET_FOLDER = \"Mongolia/dataset\""
   ]
  },
  {
   "cell_type": "markdown",
   "metadata": {
    "id": "jWQKnsuQCByR"
   },
   "source": [
    "## Augmentations"
   ]
  },
  {
   "cell_type": "code",
   "execution_count": 22,
   "metadata": {
    "id": "euXdeNyjAa2w"
   },
   "outputs": [],
   "source": [
    "# change config\n",
    "\n",
    "hyp_dir = os.path.join(yolov5_folder, \"data/hyps/hyp.scratch-med.yaml\")\n",
    "\n",
    "with open(hyp_dir, \"r\") as stream:\n",
    "    config = yaml.safe_load(stream)\n",
    "\n",
    "config['mosaic'] = 0.0\n",
    "config['scale'] = 0.0\n",
    "config['flipud'] = 0.5\n",
    "config['degrees'] = 0.5\n",
    "config['mixup'] = 0.0\n",
    "\n",
    "# write data.yaml file to 'content/' directory\n",
    "with open(hyp_dir, 'w') as outfile:\n",
    "    yaml.dump(config, outfile, default_flow_style=True)"
   ]
  },
  {
   "cell_type": "code",
   "execution_count": null,
   "metadata": {},
   "outputs": [],
   "source": [
    "Users/imaduako/YOLOv5_baseline_model/Mongolia/dataset/data.yaml"
   ]
  },
  {
   "cell_type": "markdown",
   "metadata": {
    "id": "cXGtLWVDDGko"
   },
   "source": [
    "## Create yaml file"
   ]
  },
  {
   "cell_type": "code",
   "execution_count": 24,
   "metadata": {
    "colab": {
     "base_uri": "https://localhost:8080/"
    },
    "id": "dlrdqvOaB2LS",
    "outputId": "72655238-8029-49fd-8e4d-2dbd7c6ff4d6"
   },
   "outputs": [
    {
     "ename": "FileNotFoundError",
     "evalue": "[Errno 2] No such file or directory: 'Mongolia/dataset/data.yaml'",
     "output_type": "error",
     "traceback": [
      "\u001b[0;31m---------------------------------------------------------------------------\u001b[0m",
      "\u001b[0;31mFileNotFoundError\u001b[0m                         Traceback (most recent call last)",
      "\u001b[0;32m<ipython-input-24-80d4fa5a675a>\u001b[0m in \u001b[0;36m<module>\u001b[0;34m\u001b[0m\n\u001b[1;32m     11\u001b[0m \u001b[0;34m\u001b[0m\u001b[0m\n\u001b[1;32m     12\u001b[0m \u001b[0;31m# write data.yaml file to 'content/' directory\u001b[0m\u001b[0;34m\u001b[0m\u001b[0;34m\u001b[0m\u001b[0;34m\u001b[0m\u001b[0m\n\u001b[0;32m---> 13\u001b[0;31m \u001b[0;32mwith\u001b[0m \u001b[0mopen\u001b[0m\u001b[0;34m(\u001b[0m\u001b[0myaml_dir\u001b[0m\u001b[0;34m,\u001b[0m \u001b[0;34m'w'\u001b[0m\u001b[0;34m)\u001b[0m \u001b[0;32mas\u001b[0m \u001b[0moutfile\u001b[0m\u001b[0;34m:\u001b[0m\u001b[0;34m\u001b[0m\u001b[0;34m\u001b[0m\u001b[0m\n\u001b[0m\u001b[1;32m     14\u001b[0m     \u001b[0myaml\u001b[0m\u001b[0;34m.\u001b[0m\u001b[0mdump\u001b[0m\u001b[0;34m(\u001b[0m\u001b[0mdata_yaml\u001b[0m\u001b[0;34m,\u001b[0m \u001b[0moutfile\u001b[0m\u001b[0;34m,\u001b[0m \u001b[0mdefault_flow_style\u001b[0m\u001b[0;34m=\u001b[0m\u001b[0;32mTrue\u001b[0m\u001b[0;34m)\u001b[0m\u001b[0;34m\u001b[0m\u001b[0;34m\u001b[0m\u001b[0m\n\u001b[1;32m     15\u001b[0m \u001b[0;34m\u001b[0m\u001b[0m\n",
      "\u001b[0;31mFileNotFoundError\u001b[0m: [Errno 2] No such file or directory: 'Mongolia/dataset/data.yaml'"
     ]
    }
   ],
   "source": [
    "data_yaml = dict(\n",
    "    train = f\"{DATASET_FOLDER}/train\",\n",
    "    val = f\"{DATASET_FOLDER}/valid\",\n",
    "    test = f\"{DATASET_FOLDER}/test\",\n",
    "\n",
    "    nc = 1,\n",
    "    names = ['school']\n",
    ")\n",
    "\n",
    "yaml_dir = os.path.join(DATASET_FOLDER, 'data.yaml')\n",
    "\n",
    "# write data.yaml file to 'content/' directory\n",
    "with open(yaml_dir, 'w') as outfile:\n",
    "    yaml.dump(data_yaml, outfile, default_flow_style=True)\n",
    "    \n",
    "#%cat /content/dataset/data.yaml\n",
    "%cat {yaml_dir}"
   ]
  },
  {
   "cell_type": "code",
   "execution_count": 5,
   "metadata": {
    "id": "0wZj-ROaCyne"
   },
   "outputs": [],
   "source": [
    "BATCH_SIZE = 32\n",
    "IMG_SIZE = 512\n",
    "\n",
    "EPOCHS = 50\n",
    "project_folder = 'runs'"
   ]
  },
  {
   "cell_type": "code",
   "execution_count": 8,
   "metadata": {
    "colab": {
     "base_uri": "https://localhost:8080/"
    },
    "id": "n5UJtaWoCyiA",
    "outputId": "acefca3f-2899-4f61-fc45-a0981ca83d51"
   },
   "outputs": [
    {
     "name": "stdout",
     "output_type": "stream",
     "text": [
      "[Errno 2] No such file or directory: 'yolov5'\n",
      "/mnt/batch/tasks/shared/LS_root/mounts/clusters/ai-model-training/code/Users/imaduako/YOLOv5_baseline_model/yolov5\n",
      "WARNING ⚠️ Python 3.7.0 is required by YOLOv5, but Python 3.6.9 is currently installed\n",
      "\u001b[34m\u001b[1mtrain: \u001b[0mweights=yolov5l.pt, cfg=, data=Mongolia/dataset/data.yaml, hyp=yolov5/data/hyps/hyp.scratch-med.yaml, epochs=50, batch_size=32, imgsz=512, rect=False, resume=False, nosave=False, noval=False, noautoanchor=False, noplots=False, evolve=None, bucket=, cache=None, image_weights=False, device=, multi_scale=False, single_cls=False, optimizer=SGD, sync_bn=False, workers=8, project=runs, name=exp, exist_ok=False, quad=False, cos_lr=False, label_smoothing=0.0, patience=100, freeze=[0], save_period=-1, seed=0, local_rank=-1, entity=None, upload_dataset=False, bbox_interval=-1, artifact_alias=latest\n",
      "remote: Enumerating objects: 12, done.\u001b[K\n",
      "remote: Counting objects: 100% (12/12), done.\u001b[K\n",
      "remote: Compressing objects: 100% (11/11), done.\u001b[K\n",
      "remote: Total 12 (delta 2), reused 2 (delta 1), pack-reused 0\u001b[K\n",
      "Unpacking objects: 100% (12/12), 14.85 KiB | 5.00 KiB/s, done.\n",
      "From https://github.com/ultralytics/yolov5\n",
      "   a895e98..80e5447  master     -> origin/master\n",
      "Command 'git fetch origin' timed out after 5 seconds\n",
      "WARNING ⚠️ Python 3.7.0 is required by YOLOv5, but Python 3.6.9 is currently installed\n",
      "Traceback (most recent call last):\n",
      "  File \"train.py\", line 636, in <module>\n",
      "    main(opt)\n",
      "  File \"train.py\", line 504, in main\n",
      "    check_file(opt.data), check_yaml(opt.cfg), check_yaml(opt.hyp), str(opt.weights), str(opt.project)  # checks\n",
      "  File \"/mnt/batch/tasks/shared/LS_root/mounts/clusters/ai-model-training/code/Users/imaduako/YOLOv5_baseline_model/yolov5/utils/general.py\", line 484, in check_file\n",
      "    assert len(files), f'File not found: {file}'  # assert file was found\n",
      "AssertionError: File not found: Mongolia/dataset/data.yaml\n",
      "/home/azureuser\n"
     ]
    }
   ],
   "source": [
    "%cd {yolov5_folder}\n",
    "\n",
    "!python train.py --img {IMG_SIZE} \\\n",
    "                 --batch {BATCH_SIZE} \\\n",
    "                 --epochs {EPOCHS} \\\n",
    "                 --data {yaml_dir} \\\n",
    "                 --weights yolov5l.pt \\\n",
    "                 --project {project_folder} \\\n",
    "                 --hyp {hyp_dir}\n",
    "                #  --workers 0\n",
    "                #  --save-period 1 \\\n",
    "\n",
    "%cd /content"
   ]
  },
  {
   "cell_type": "code",
   "execution_count": 7,
   "metadata": {},
   "outputs": [
    {
     "name": "stdout",
     "output_type": "stream",
     "text": [
      "3.8.1\n"
     ]
    }
   ],
   "source": [
    "from platform import python_version\n",
    "\n",
    "print(python_version())"
   ]
  },
  {
   "cell_type": "markdown",
   "metadata": {
    "id": "wpWd0JWzLeR1"
   },
   "source": [
    "# Validation"
   ]
  },
  {
   "cell_type": "code",
   "execution_count": 9,
   "metadata": {
    "id": "q6m21b3JLy49"
   },
   "outputs": [],
   "source": [
    "weight_dir = \"/runs/weights/best.pt\"\n",
    "data_yaml_dir = \"/Mongolia/dataset/data.yaml\"\n",
    "image_size = 512"
   ]
  },
  {
   "cell_type": "code",
   "execution_count": 10,
   "metadata": {
    "colab": {
     "base_uri": "https://localhost:8080/"
    },
    "id": "WAVcJ-YXCyZU",
    "outputId": "0cf424a9-c31a-436e-a9f1-6bd1804758bd"
   },
   "outputs": [
    {
     "name": "stdout",
     "output_type": "stream",
     "text": [
      "[Errno 2] No such file or directory: 'yolov5'\n",
      "/home/azureuser\n",
      "python: can't open file 'val.py': [Errno 2] No such file or directory\n",
      "[Errno 2] No such file or directory: '/content'\n",
      "/home/azureuser\n"
     ]
    }
   ],
   "source": [
    "%cd {yolov5_folder}\n",
    "\n",
    "!python val.py \\\n",
    "--weights {weight_dir} \\\n",
    "--data {data_yaml_dir} \\\n",
    "--img {image_size} \\\n",
    "--task test\n",
    "\n",
    "%cd /content"
   ]
  },
  {
   "cell_type": "code",
   "execution_count": null,
   "metadata": {},
   "outputs": [],
   "source": []
  }
 ],
 "metadata": {
  "accelerator": "GPU",
  "colab": {
   "provenance": []
  },
  "gpuClass": "standard",
  "kernelspec": {
   "display_name": "Python 3.8 - PyTorch",
   "language": "python",
   "name": "azureml_py38_pytorch"
  },
  "language_info": {
   "codemirror_mode": {
    "name": "ipython",
    "version": 3
   },
   "file_extension": ".py",
   "mimetype": "text/x-python",
   "name": "python",
   "nbconvert_exporter": "python",
   "pygments_lexer": "ipython3",
   "version": "3.8.1"
  }
 },
 "nbformat": 4,
 "nbformat_minor": 4
}
