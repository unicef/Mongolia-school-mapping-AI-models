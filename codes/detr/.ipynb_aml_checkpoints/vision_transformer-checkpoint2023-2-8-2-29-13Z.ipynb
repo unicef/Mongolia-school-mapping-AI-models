{
 "cells": [
  {
   "cell_type": "markdown",
   "metadata": {
    "id": "ekLRqYii7G8E"
   },
   "source": [
    "## References:\n",
    "- Code source - https://github.com/aivclab/detr/tree/8830cacdc981924169546a0e59d94b6c94fd775d\n",
    "- Install packages - https://stackoverflow.com/questions/66588715/runtimeerror-cudnn-error-cudnn-status-not-initialized-using-pytorch"
   ]
  },
  {
   "cell_type": "markdown",
   "metadata": {
    "id": "DUBfaW0nI0WW"
   },
   "source": [
    "## Mount google drive"
   ]
  },
  {
   "cell_type": "code",
   "execution_count": null,
   "metadata": {
    "id": "O3coNOjD_N8n"
   },
   "outputs": [],
   "source": [
    "from google.colab import drive \n",
    "drive.mount('/content/drive')"
   ]
  },
  {
   "cell_type": "markdown",
   "metadata": {
    "id": "iSaoEFg9_L6o"
   },
   "source": [
    "## Install packages"
   ]
  },
  {
   "cell_type": "code",
   "execution_count": 2,
   "metadata": {
    "id": "OY7A5zXJ7Rna"
   },
   "outputs": [
    {
     "name": "stdout",
     "output_type": "stream",
     "text": [
      "Looking in links: https://download.pytorch.org/whl/torch_stable.html\n",
      "Requirement already satisfied: torch==1.8.0+cu111 in /anaconda/envs/azureml_py36/lib/python3.6/site-packages (1.8.0+cu111)\n",
      "Requirement already satisfied: torchvision==0.9.0+cu111 in /anaconda/envs/azureml_py36/lib/python3.6/site-packages (0.9.0+cu111)\n",
      "Requirement already satisfied: torchaudio==0.8.0 in /anaconda/envs/azureml_py36/lib/python3.6/site-packages (0.8.0)\n",
      "Requirement already satisfied: typing-extensions in /anaconda/envs/azureml_py36/lib/python3.6/site-packages (from torch==1.8.0+cu111) (3.10.0.2)\n",
      "Requirement already satisfied: numpy in /anaconda/envs/azureml_py36/lib/python3.6/site-packages (from torch==1.8.0+cu111) (1.19.5)\n",
      "Requirement already satisfied: dataclasses; python_version < \"3.7\" in /anaconda/envs/azureml_py36/lib/python3.6/site-packages (from torch==1.8.0+cu111) (0.8)\n",
      "Requirement already satisfied: pillow>=4.1.1 in /anaconda/envs/azureml_py36/lib/python3.6/site-packages (from torchvision==0.9.0+cu111) (8.4.0)\n"
     ]
    }
   ],
   "source": [
    "!pip install torch==1.8.0+cu111 torchvision==0.9.0+cu111 torchaudio==0.8.0 -f https://download.pytorch.org/whl/torch_stable.html"
   ]
  },
  {
   "cell_type": "code",
   "execution_count": 3,
   "metadata": {
    "id": "TjdHSeom2a3Z"
   },
   "outputs": [
    {
     "name": "stdout",
     "output_type": "stream",
     "text": [
      "1.9.0.post2 False None\n"
     ]
    }
   ],
   "source": [
    "import torch, torchvision\n",
    "print(torch.__version__, torch.cuda.is_available(), torch.version.cuda)"
   ]
  },
  {
   "cell_type": "markdown",
   "metadata": {
    "id": "iez6Wg428sKt"
   },
   "source": [
    "## Params"
   ]
  },
  {
   "cell_type": "code",
   "execution_count": 5,
   "metadata": {
    "executionInfo": {
     "elapsed": 17,
     "status": "ok",
     "timestamp": 1678134918150,
     "user": {
      "displayName": "Om Gi",
      "userId": "17010805908415241739"
     },
     "user_tz": -390
    },
    "id": "C4NERDga8r7C"
   },
   "outputs": [],
   "source": [
    "code_dir = \"detr/detr\" # folder containing source code for DeTR model\n",
    "outDir = \"detr/weights/exp1\" # training outputs will be saved in this folder\n",
    "\n",
    "\n",
    "\"\"\"  Training  \"\"\"\n",
    "\n",
    "epochs = 50\n",
    "batch_size = 4\n",
    "\n",
    "\n",
    "\"\"\"  Model loading  \"\"\"\n",
    "\n",
    "pretrained = True # use pre-trained model\n",
    "pretrained_url = 'https://dl.fbaipublicfiles.com/detr/detr-r50-e632da11.pth'\n",
    "pretrained_download_dir = 'weights/pretrained/detr-r50_no-class-head.pth' # dir to store pre-trained model file\n",
    "\n",
    "\n",
    "\"\"\"  Dataset  \"\"\"\n",
    "\n",
    "dataset_file = \"coco_custom\"\n",
    "dataDir= \"datasets/coco_dataset\" # coco dataset folder\n",
    "num_classes = 2 # actual number of classes + 1 (for no class)\n",
    "pretrained_file_dir = pretrained_download_dir if pretrained else \"\""
   ]
  },
  {
   "cell_type": "code",
   "execution_count": 3,
   "metadata": {},
   "outputs": [
    {
     "name": "stdout",
     "output_type": "stream",
     "text": [
      "/mnt/batch/tasks/shared/LS_root/mounts/clusters/ai-model-training/code/Users/imaduako/detr/detr\n"
     ]
    }
   ],
   "source": [
    "!pwd"
   ]
  },
  {
   "cell_type": "markdown",
   "metadata": {
    "id": "KT-sXlWj83dS"
   },
   "source": [
    "## Change dir"
   ]
  },
  {
   "cell_type": "code",
   "execution_count": 4,
   "metadata": {
    "colab": {
     "base_uri": "https://localhost:8080/"
    },
    "executionInfo": {
     "elapsed": 17,
     "status": "ok",
     "timestamp": 1678134918150,
     "user": {
      "displayName": "Om Gi",
      "userId": "17010805908415241739"
     },
     "user_tz": -390
    },
    "id": "XaH3pFbI82ne",
    "outputId": "91a37119-0ded-46d7-fdd2-a6a3bd84b5bf"
   },
   "outputs": [
    {
     "name": "stdout",
     "output_type": "stream",
     "text": [
      "[Errno 2] No such file or directory: 'detr/detr'\n",
      "/mnt/batch/tasks/shared/LS_root/mounts/clusters/ai-model-training/code/Users/imaduako/detr/detr\n"
     ]
    }
   ],
   "source": [
    "#%cd {code_dir}"
   ]
  },
  {
   "cell_type": "markdown",
   "metadata": {
    "id": "VivCSu2U2j3p"
   },
   "source": [
    "## Load pre-trained model\n",
    "\n",
    "This greatly depends on the size of a dataset. Smaller datasets rely more on finetuning. "
   ]
  },
  {
   "cell_type": "code",
   "execution_count": 6,
   "metadata": {
    "id": "PigTHzMj2hfp"
   },
   "outputs": [],
   "source": [
    "if pretrained:\n",
    "    # Get pretrained weights\n",
    "    checkpoint = torch.hub.load_state_dict_from_url(\n",
    "                url = pretrained_url,\n",
    "                map_location = 'cpu',\n",
    "                check_hash = True)\n",
    "\n",
    "    # Remove class weights\n",
    "    del checkpoint[\"model\"][\"class_embed.weight\"]\n",
    "    del checkpoint[\"model\"][\"class_embed.bias\"]\n",
    "\n",
    "    # SaveOGH\n",
    "    torch.save(checkpoint,\n",
    "               pretrained_download_dir)"
   ]
  },
  {
   "cell_type": "code",
   "execution_count": 1,
   "metadata": {},
   "outputs": [
    {
     "name": "stdout",
     "output_type": "stream",
     "text": [
      "Processing /home/azureuser/.cache/pip/wheels/3e/08/ac/58126fe59992032701437336493f6132e1b72381a62d00b595/pycocotools-2.0.6-cp38-cp38-linux_x86_64.whl\n",
      "Requirement already satisfied: matplotlib>=2.1.0 in /anaconda/envs/azureml_py38_tensorflow/lib/python3.8/site-packages (from pycocotools) (3.4.3)\n",
      "Requirement already satisfied: numpy in /anaconda/envs/azureml_py38_tensorflow/lib/python3.8/site-packages (from pycocotools) (1.20.3)\n",
      "Requirement already satisfied: pillow>=6.2.0 in /anaconda/envs/azureml_py38_tensorflow/lib/python3.8/site-packages (from matplotlib>=2.1.0->pycocotools) (8.3.2)\n",
      "Requirement already satisfied: python-dateutil>=2.7 in /anaconda/envs/azureml_py38_tensorflow/lib/python3.8/site-packages (from matplotlib>=2.1.0->pycocotools) (2.8.2)\n",
      "Requirement already satisfied: kiwisolver>=1.0.1 in /anaconda/envs/azureml_py38_tensorflow/lib/python3.8/site-packages (from matplotlib>=2.1.0->pycocotools) (1.3.2)\n",
      "Requirement already satisfied: cycler>=0.10 in /anaconda/envs/azureml_py38_tensorflow/lib/python3.8/site-packages (from matplotlib>=2.1.0->pycocotools) (0.10.0)\n",
      "Requirement already satisfied: pyparsing>=2.2.1 in /anaconda/envs/azureml_py38_tensorflow/lib/python3.8/site-packages (from matplotlib>=2.1.0->pycocotools) (2.4.7)\n",
      "Requirement already satisfied: six>=1.5 in /anaconda/envs/azureml_py38_tensorflow/lib/python3.8/site-packages (from python-dateutil>=2.7->matplotlib>=2.1.0->pycocotools) (1.15.0)\n",
      "Installing collected packages: pycocotools\n",
      "Successfully installed pycocotools-2.0.6\n",
      "Note: you may need to restart the kernel to use updated packages.\n"
     ]
    }
   ],
   "source": [
    "pip install pycocotools"
   ]
  },
  {
   "cell_type": "markdown",
   "metadata": {
    "id": "t3Kcwwbl2_Ms"
   },
   "source": [
    "## Training\n",
    "\n",
    "We use the main.py script to run our training"
   ]
  },
  {
   "cell_type": "code",
   "execution_count": 7,
   "metadata": {
    "id": "066FKhSR2hbW"
   },
   "outputs": [
    {
     "name": "stdout",
     "output_type": "stream",
     "text": [
      "Not using distributed mode\n",
      "git:\n",
      "  sha: 8830cacdc981924169546a0e59d94b6c94fd775d, status: has uncommited changes, branch: master\n",
      "\n",
      "Namespace(aux_loss=True, backbone='resnet50', batch_size=4, bbox_loss_coef=5, clip_max_norm=0.1, coco_panoptic_path=None, coco_path='datasets/coco_dataset', dataset_file='coco_custom', dec_layers=6, device='cuda', dice_loss_coef=1, dilation=False, dim_feedforward=2048, dist_url='env://', distributed=False, dropout=0.1, enc_layers=6, eos_coef=0.1, epochs=50, eval=False, frozen_weights=None, giou_loss_coef=2, hidden_dim=256, lr=1e-05, lr_backbone=1e-06, lr_drop=200, mask_loss_coef=1, masks=False, nheads=8, num_classes=2, num_queries=100, num_workers=2, output_dir='detr/weights/exp1', position_embedding='sine', pre_norm=False, remove_difficult=False, resume='weights/pretrained/detr-r50_no-class-head.pth', seed=42, set_cost_bbox=5, set_cost_class=1, set_cost_giou=2, start_epoch=0, weight_decay=0.0001, world_size=1)\n",
      "Building a DETR model with 2 classes\n",
      "number of params: 41279495\n",
      "loading annotations into memory...\n",
      "Done (t=0.18s)\n",
      "creating index...\n",
      "index created!\n",
      "loading annotations into memory...\n",
      "Done (t=0.11s)\n",
      "creating index...\n",
      "index created!\n",
      "Start training\n",
      "Epoch: [0]  [  0/294]  eta: 0:11:09  lr: 0.000010  class_error: 0.00  loss: 43.2930 (43.2930)  loss_ce: 2.0217 (2.0217)  loss_bbox: 2.9546 (2.9546)  loss_giou: 2.3187 (2.3187)  loss_ce_0: 1.9069 (1.9069)  loss_bbox_0: 3.0868 (3.0868)  loss_giou_0: 2.2346 (2.2346)  loss_ce_1: 1.9250 (1.9250)  loss_bbox_1: 2.8995 (2.8995)  loss_giou_1: 2.2698 (2.2698)  loss_ce_2: 1.9345 (1.9345)  loss_bbox_2: 2.9676 (2.9676)  loss_giou_2: 2.3083 (2.3083)  loss_ce_3: 1.9797 (1.9797)  loss_bbox_3: 2.9082 (2.9082)  loss_giou_3: 2.2576 (2.2576)  loss_ce_4: 2.0223 (2.0223)  loss_bbox_4: 2.9671 (2.9671)  loss_giou_4: 2.3302 (2.3302)  loss_ce_unscaled: 2.0217 (2.0217)  class_error_unscaled: 0.0000 (0.0000)  loss_bbox_unscaled: 0.5909 (0.5909)  loss_giou_unscaled: 1.1594 (1.1594)  cardinality_error_unscaled: 99.7500 (99.7500)  loss_ce_0_unscaled: 1.9069 (1.9069)  loss_bbox_0_unscaled: 0.6174 (0.6174)  loss_giou_0_unscaled: 1.1173 (1.1173)  cardinality_error_0_unscaled: 99.0000 (99.0000)  loss_ce_1_unscaled: 1.9250 (1.9250)  loss_bbox_1_unscaled: 0.5799 (0.5799)  loss_giou_1_unscaled: 1.1349 (1.1349)  cardinality_error_1_unscaled: 99.7500 (99.7500)  loss_ce_2_unscaled: 1.9345 (1.9345)  loss_bbox_2_unscaled: 0.5935 (0.5935)  loss_giou_2_unscaled: 1.1541 (1.1541)  cardinality_error_2_unscaled: 99.7500 (99.7500)  loss_ce_3_unscaled: 1.9797 (1.9797)  loss_bbox_3_unscaled: 0.5816 (0.5816)  loss_giou_3_unscaled: 1.1288 (1.1288)  cardinality_error_3_unscaled: 99.7500 (99.7500)  loss_ce_4_unscaled: 2.0223 (2.0223)  loss_bbox_4_unscaled: 0.5934 (0.5934)  loss_giou_4_unscaled: 1.1651 (1.1651)  cardinality_error_4_unscaled: 99.7500 (99.7500)  time: 2.2782  data: 1.0810  max mem: 2103\n",
      "Epoch: [0]  [ 10/294]  eta: 0:05:59  lr: 0.000010  class_error: 100.00  loss: 15.2130 (22.8860)  loss_ce: 1.7056 (1.7583)  loss_bbox: 0.3516 (1.2707)  loss_giou: 0.2983 (0.7867)  loss_ce_0: 1.6967 (1.7279)  loss_bbox_0: 0.6118 (1.2729)  loss_giou_0: 0.5706 (0.8591)  loss_ce_1: 1.7032 (1.7420)  loss_bbox_1: 0.4847 (1.2560)  loss_giou_1: 0.4371 (0.8392)  loss_ce_2: 1.7027 (1.7440)  loss_bbox_2: 0.3237 (1.2417)  loss_giou_2: 0.3401 (0.7603)  loss_ce_3: 1.7154 (1.7586)  loss_bbox_3: 0.3292 (1.2378)  loss_giou_3: 0.3475 (0.7962)  loss_ce_4: 1.7229 (1.7799)  loss_bbox_4: 0.3248 (1.2611)  loss_giou_4: 0.3341 (0.7936)  loss_ce_unscaled: 1.7056 (1.7583)  class_error_unscaled: 0.0000 (9.0909)  loss_bbox_unscaled: 0.0703 (0.2541)  loss_giou_unscaled: 0.1491 (0.3934)  cardinality_error_unscaled: 99.5000 (99.4773)  loss_ce_0_unscaled: 1.6967 (1.7279)  loss_bbox_0_unscaled: 0.1224 (0.2546)  loss_giou_0_unscaled: 0.2853 (0.4296)  cardinality_error_0_unscaled: 99.0000 (98.7273)  loss_ce_1_unscaled: 1.7032 (1.7420)  loss_bbox_1_unscaled: 0.0969 (0.2512)  loss_giou_1_unscaled: 0.2186 (0.4196)  cardinality_error_1_unscaled: 99.5000 (99.2955)  loss_ce_2_unscaled: 1.7027 (1.7440)  loss_bbox_2_unscaled: 0.0647 (0.2483)  loss_giou_2_unscaled: 0.1701 (0.3801)  cardinality_error_2_unscaled: 99.5000 (99.3182)  loss_ce_3_unscaled: 1.7154 (1.7586)  loss_bbox_3_unscaled: 0.0658 (0.2476)  loss_giou_3_unscaled: 0.1737 (0.3981)  cardinality_error_3_unscaled: 99.5000 (99.4545)  loss_ce_4_unscaled: 1.7229 (1.7799)  loss_bbox_4_unscaled: 0.0650 (0.2522)  loss_giou_4_unscaled: 0.1670 (0.3968)  cardinality_error_4_unscaled: 99.5000 (99.4773)  time: 1.2675  data: 0.1097  max mem: 3515\n",
      "Epoch: [0]  [ 20/294]  eta: 0:05:36  lr: 0.000010  class_error: 0.00  loss: 14.1159 (19.5259)  loss_ce: 1.6074 (1.6171)  loss_bbox: 0.3516 (0.9749)  loss_giou: 0.2983 (0.6215)  loss_ce_0: 1.6162 (1.6417)  loss_bbox_0: 0.5875 (0.9943)  loss_giou_0: 0.4648 (0.6883)  loss_ce_1: 1.6271 (1.6373)  loss_bbox_1: 0.4648 (0.9640)  loss_giou_1: 0.4284 (0.6634)  loss_ce_2: 1.6280 (1.6335)  loss_bbox_2: 0.3237 (0.9567)  loss_giou_2: 0.2922 (0.6245)  loss_ce_3: 1.6174 (1.6312)  loss_bbox_3: 0.3292 (0.9908)  loss_giou_3: 0.3384 (0.6397)  loss_ce_4: 1.6301 (1.6445)  loss_bbox_4: 0.3248 (0.9724)  loss_giou_4: 0.3053 (0.6299)  loss_ce_unscaled: 1.6074 (1.6171)  class_error_unscaled: 0.0000 (14.2857)  loss_bbox_unscaled: 0.0703 (0.1950)  loss_giou_unscaled: 0.1491 (0.3108)  cardinality_error_unscaled: 99.0000 (97.4167)  loss_ce_0_unscaled: 1.6162 (1.6417)  loss_bbox_0_unscaled: 0.1175 (0.1989)  loss_giou_0_unscaled: 0.2324 (0.3442)  cardinality_error_0_unscaled: 98.0000 (97.4167)  loss_ce_1_unscaled: 1.6271 (1.6373)  loss_bbox_1_unscaled: 0.0930 (0.1928)  loss_giou_1_unscaled: 0.2142 (0.3317)  cardinality_error_1_unscaled: 99.0000 (98.3214)  loss_ce_2_unscaled: 1.6280 (1.6335)  loss_bbox_2_unscaled: 0.0647 (0.1913)  loss_giou_2_unscaled: 0.1461 (0.3123)  cardinality_error_2_unscaled: 99.2500 (98.3571)  loss_ce_3_unscaled: 1.6174 (1.6312)  loss_bbox_3_unscaled: 0.0658 (0.1982)  loss_giou_3_unscaled: 0.1692 (0.3198)  cardinality_error_3_unscaled: 98.7500 (97.7619)  loss_ce_4_unscaled: 1.6301 (1.6445)  loss_bbox_4_unscaled: 0.0650 (0.1945)  loss_giou_4_unscaled: 0.1527 (0.3150)  cardinality_error_4_unscaled: 99.0000 (97.7857)  time: 1.1737  data: 0.0119  max mem: 3519\n",
      "Epoch: [0]  [ 30/294]  eta: 0:05:14  lr: 0.000010  class_error: 0.00  loss: 16.6941 (19.2488)  loss_ce: 1.3228 (1.4832)  loss_bbox: 0.6704 (1.0162)  loss_giou: 0.4135 (0.6588)  loss_ce_0: 1.4727 (1.5581)  loss_bbox_0: 0.6195 (0.9677)  loss_giou_0: 0.4803 (0.6995)  loss_ce_1: 1.4262 (1.5387)  loss_bbox_1: 0.5647 (0.9835)  loss_giou_1: 0.4593 (0.6973)  loss_ce_2: 1.4205 (1.5284)  loss_bbox_2: 0.4910 (1.0196)  loss_giou_2: 0.4872 (0.6731)  loss_ce_3: 1.3598 (1.5104)  loss_bbox_3: 0.8322 (1.0309)  loss_giou_3: 0.4664 (0.6791)  loss_ce_4: 1.3576 (1.5159)  loss_bbox_4: 0.6982 (1.0221)  loss_giou_4: 0.4258 (0.6662)  loss_ce_unscaled: 1.3228 (1.4832)  class_error_unscaled: 0.0000 (16.1290)  loss_bbox_unscaled: 0.1341 (0.2032)  loss_giou_unscaled: 0.2067 (0.3294)  cardinality_error_unscaled: 90.5000 (91.9032)  loss_ce_0_unscaled: 1.4727 (1.5581)  loss_bbox_0_unscaled: 0.1239 (0.1935)  loss_giou_0_unscaled: 0.2402 (0.3497)  cardinality_error_0_unscaled: 94.5000 (95.2823)  loss_ce_1_unscaled: 1.4262 (1.5387)  loss_bbox_1_unscaled: 0.1129 (0.1967)  loss_giou_1_unscaled: 0.2296 (0.3487)  cardinality_error_1_unscaled: 95.5000 (96.0887)  loss_ce_2_unscaled: 1.4205 (1.5284)  loss_bbox_2_unscaled: 0.0982 (0.2039)  loss_giou_2_unscaled: 0.2436 (0.3366)  cardinality_error_2_unscaled: 95.7500 (95.5806)  loss_ce_3_unscaled: 1.3598 (1.5104)  loss_bbox_3_unscaled: 0.1664 (0.2062)  loss_giou_3_unscaled: 0.2332 (0.3396)  cardinality_error_3_unscaled: 92.5000 (93.9516)  loss_ce_4_unscaled: 1.3576 (1.5159)  loss_bbox_4_unscaled: 0.1396 (0.2044)  loss_giou_4_unscaled: 0.2129 (0.3331)  cardinality_error_4_unscaled: 92.7500 (93.3226)  time: 1.1489  data: 0.0110  max mem: 3519\n",
      "Epoch: [0]  [ 40/294]  eta: 0:04:59  lr: 0.000010  class_error: 0.00  loss: 12.6834 (17.8728)  loss_ce: 1.0738 (1.3618)  loss_bbox: 0.5595 (0.9091)  loss_giou: 0.4009 (0.6058)  loss_ce_0: 1.2881 (1.4753)  loss_bbox_0: 0.5636 (0.9110)  loss_giou_0: 0.5915 (0.6769)  loss_ce_1: 1.2218 (1.4435)  loss_bbox_1: 0.6028 (0.9201)  loss_giou_1: 0.5007 (0.6565)  loss_ce_2: 1.1851 (1.4269)  loss_bbox_2: 0.6267 (0.9467)  loss_giou_2: 0.4382 (0.6322)  loss_ce_3: 1.1374 (1.3998)  loss_bbox_3: 0.6130 (0.9388)  loss_giou_3: 0.4572 (0.6311)  loss_ce_4: 1.1168 (1.3984)  loss_bbox_4: 0.5687 (0.9223)  loss_giou_4: 0.3878 (0.6165)  loss_ce_unscaled: 1.0738 (1.3618)  class_error_unscaled: 0.0000 (15.4472)  loss_bbox_unscaled: 0.1119 (0.1818)  loss_giou_unscaled: 0.2005 (0.3029)  cardinality_error_unscaled: 68.0000 (82.5854)  loss_ce_0_unscaled: 1.2881 (1.4753)  loss_bbox_0_unscaled: 0.1127 (0.1822)  loss_giou_0_unscaled: 0.2958 (0.3384)  cardinality_error_0_unscaled: 85.2500 (91.9329)  loss_ce_1_unscaled: 1.2218 (1.4435)  loss_bbox_1_unscaled: 0.1206 (0.1840)  loss_giou_1_unscaled: 0.2503 (0.3283)  cardinality_error_1_unscaled: 85.0000 (91.8049)  loss_ce_2_unscaled: 1.1851 (1.4269)  loss_bbox_2_unscaled: 0.1253 (0.1893)  loss_giou_2_unscaled: 0.2191 (0.3161)  cardinality_error_2_unscaled: 81.5000 (90.1098)  loss_ce_3_unscaled: 1.1374 (1.3998)  loss_bbox_3_unscaled: 0.1226 (0.1878)  loss_giou_3_unscaled: 0.2286 (0.3156)  cardinality_error_3_unscaled: 76.5000 (86.7988)  loss_ce_4_unscaled: 1.1168 (1.3984)  loss_bbox_4_unscaled: 0.1137 (0.1845)  loss_giou_4_unscaled: 0.1939 (0.3083)  cardinality_error_4_unscaled: 73.2500 (85.3354)  time: 1.1303  data: 0.0114  max mem: 3519\n",
      "Epoch: [0]  [ 50/294]  eta: 0:04:43  lr: 0.000010  class_error: 100.00  loss: 11.9042 (16.9737)  loss_ce: 0.8627 (1.2514)  loss_bbox: 0.4580 (0.8755)  loss_giou: 0.3500 (0.5792)  loss_ce_0: 1.1197 (1.3952)  loss_bbox_0: 0.5636 (0.8837)  loss_giou_0: 0.5915 (0.6514)  loss_ce_1: 1.0566 (1.3549)  loss_bbox_1: 0.5472 (0.9001)  loss_giou_1: 0.4467 (0.6337)  loss_ce_2: 1.0233 (1.3330)  loss_bbox_2: 0.4837 (0.9244)  loss_giou_2: 0.4378 (0.6036)  loss_ce_3: 0.9491 (1.2976)  loss_bbox_3: 0.4047 (0.9147)  loss_giou_3: 0.3874 (0.6026)  loss_ce_4: 0.9160 (1.2921)  loss_bbox_4: 0.4791 (0.8908)  loss_giou_4: 0.3817 (0.5898)  loss_ce_unscaled: 0.8627 (1.2514)  class_error_unscaled: 0.0000 (24.8366)  loss_bbox_unscaled: 0.0916 (0.1751)  loss_giou_unscaled: 0.1750 (0.2896)  cardinality_error_unscaled: 31.7500 (70.7108)  loss_ce_0_unscaled: 1.1197 (1.3952)  loss_bbox_0_unscaled: 0.1127 (0.1767)  loss_giou_0_unscaled: 0.2958 (0.3257)  cardinality_error_0_unscaled: 76.5000 (86.8971)  loss_ce_1_unscaled: 1.0566 (1.3549)  loss_bbox_1_unscaled: 0.1094 (0.1800)  loss_giou_1_unscaled: 0.2233 (0.3169)  cardinality_error_1_unscaled: 68.2500 (84.9608)  loss_ce_2_unscaled: 1.0233 (1.3330)  loss_bbox_2_unscaled: 0.0967 (0.1849)  loss_giou_2_unscaled: 0.2189 (0.3018)  cardinality_error_2_unscaled: 58.2500 (81.7696)  loss_ce_3_unscaled: 0.9491 (1.2976)  loss_bbox_3_unscaled: 0.0809 (0.1829)  loss_giou_3_unscaled: 0.1937 (0.3013)  cardinality_error_3_unscaled: 49.0000 (77.0588)  loss_ce_4_unscaled: 0.9160 (1.2921)  loss_bbox_4_unscaled: 0.0958 (0.1782)  loss_giou_4_unscaled: 0.1909 (0.2949)  cardinality_error_4_unscaled: 43.0000 (74.7451)  time: 1.1148  data: 0.0113  max mem: 3519\n",
      "Epoch: [0]  [ 60/294]  eta: 0:04:29  lr: 0.000010  class_error: 50.00  loss: 12.6474 (16.4036)  loss_ce: 0.7201 (1.1585)  loss_bbox: 0.6787 (0.8539)  loss_giou: 0.5194 (0.5853)  loss_ce_0: 1.0052 (1.3256)  loss_bbox_0: 0.8699 (0.8830)  loss_giou_0: 0.7294 (0.6664)  loss_ce_1: 0.9194 (1.2797)  loss_bbox_1: 0.7534 (0.8802)  loss_giou_1: 0.6323 (0.6435)  loss_ce_2: 0.8743 (1.2525)  loss_bbox_2: 0.7046 (0.8990)  loss_giou_2: 0.6066 (0.6100)  loss_ce_3: 0.8025 (1.2111)  loss_bbox_3: 0.6457 (0.8865)  loss_giou_3: 0.5109 (0.6039)  loss_ce_4: 0.7689 (1.2015)  loss_bbox_4: 0.6724 (0.8667)  loss_giou_4: 0.5360 (0.5961)  loss_ce_unscaled: 0.7201 (1.1585)  class_error_unscaled: 66.6667 (32.0492)  loss_bbox_unscaled: 0.1357 (0.1708)  loss_giou_unscaled: 0.2597 (0.2927)  cardinality_error_unscaled: 14.2500 (60.8770)  loss_ce_0_unscaled: 1.0052 (1.3256)  loss_bbox_0_unscaled: 0.1740 (0.1766)  loss_giou_0_unscaled: 0.3647 (0.3332)  cardinality_error_0_unscaled: 56.0000 (81.3525)  loss_ce_1_unscaled: 0.9194 (1.2797)  loss_bbox_1_unscaled: 0.1507 (0.1760)  loss_giou_1_unscaled: 0.3162 (0.3217)  cardinality_error_1_unscaled: 47.0000 (77.8525)  loss_ce_2_unscaled: 0.8743 (1.2525)  loss_bbox_2_unscaled: 0.1409 (0.1798)  loss_giou_2_unscaled: 0.3033 (0.3050)  cardinality_error_2_unscaled: 38.5000 (73.5205)  loss_ce_3_unscaled: 0.8025 (1.2111)  loss_bbox_3_unscaled: 0.1291 (0.1773)  loss_giou_3_unscaled: 0.2555 (0.3020)  cardinality_error_3_unscaled: 28.0000 (67.9385)  loss_ce_4_unscaled: 0.7689 (1.2015)  loss_bbox_4_unscaled: 0.1345 (0.1733)  loss_giou_4_unscaled: 0.2680 (0.2981)  cardinality_error_4_unscaled: 23.7500 (65.1598)  time: 1.0899  data: 0.0113  max mem: 3519\n",
      "Epoch: [0]  [ 70/294]  eta: 0:04:17  lr: 0.000010  class_error: 100.00  loss: 12.6474 (16.1384)  loss_ce: 0.6498 (1.0776)  loss_bbox: 0.6787 (0.8811)  loss_giou: 0.5194 (0.5871)  loss_ce_0: 0.9498 (1.2667)  loss_bbox_0: 0.8939 (0.9127)  loss_giou_0: 0.7294 (0.6717)  loss_ce_1: 0.8691 (1.2155)  loss_bbox_1: 0.7534 (0.8821)  loss_giou_1: 0.6499 (0.6464)  loss_ce_2: 0.8093 (1.1821)  loss_bbox_2: 0.7046 (0.9206)  loss_giou_2: 0.6096 (0.6293)  loss_ce_3: 0.7532 (1.1366)  loss_bbox_3: 0.6457 (0.9057)  loss_giou_3: 0.5141 (0.6116)  loss_ce_4: 0.7131 (1.1227)  loss_bbox_4: 0.6724 (0.8928)  loss_giou_4: 0.5360 (0.5962)  loss_ce_unscaled: 0.6498 (1.0776)  class_error_unscaled: 80.0000 (39.2723)  loss_bbox_unscaled: 0.1357 (0.1762)  loss_giou_unscaled: 0.2597 (0.2935)  cardinality_error_unscaled: 7.5000 (53.1725)  loss_ce_0_unscaled: 0.9498 (1.2667)  loss_bbox_0_unscaled: 0.1788 (0.1825)  loss_giou_0_unscaled: 0.3647 (0.3359)  cardinality_error_0_unscaled: 50.0000 (76.3627)  loss_ce_1_unscaled: 0.8691 (1.2155)  loss_bbox_1_unscaled: 0.1507 (0.1764)  loss_giou_1_unscaled: 0.3249 (0.3232)  cardinality_error_1_unscaled: 35.7500 (71.3239)  loss_ce_2_unscaled: 0.8093 (1.1821)  loss_bbox_2_unscaled: 0.1409 (0.1841)  loss_giou_2_unscaled: 0.3048 (0.3146)  cardinality_error_2_unscaled: 28.0000 (66.1197)  loss_ce_3_unscaled: 0.7532 (1.1366)  loss_bbox_3_unscaled: 0.1291 (0.1811)  loss_giou_3_unscaled: 0.2570 (0.3058)  cardinality_error_3_unscaled: 20.0000 (60.4683)  loss_ce_4_unscaled: 0.7131 (1.1227)  loss_bbox_4_unscaled: 0.1345 (0.1786)  loss_giou_4_unscaled: 0.2680 (0.2981)  cardinality_error_4_unscaled: 14.2500 (57.4577)  time: 1.1137  data: 0.0116  max mem: 3519\n",
      "Epoch: [0]  [ 80/294]  eta: 0:04:04  lr: 0.000010  class_error: 100.00  loss: 10.3595 (15.7972)  loss_ce: 0.4972 (0.9984)  loss_bbox: 0.5238 (0.9093)  loss_giou: 0.3898 (0.5867)  loss_ce_0: 0.8156 (1.2060)  loss_bbox_0: 0.7134 (0.9191)  loss_giou_0: 0.6040 (0.6707)  loss_ce_1: 0.7417 (1.1512)  loss_bbox_1: 0.7458 (0.8955)  loss_giou_1: 0.5724 (0.6412)  loss_ce_2: 0.6667 (1.1104)  loss_bbox_2: 0.6735 (0.9267)  loss_giou_2: 0.5137 (0.6321)  loss_ce_3: 0.5978 (1.0613)  loss_bbox_3: 0.5220 (0.9149)  loss_giou_3: 0.4113 (0.6126)  loss_ce_4: 0.5576 (1.0448)  loss_bbox_4: 0.4883 (0.9166)  loss_giou_4: 0.4118 (0.5995)  loss_ce_unscaled: 0.4972 (0.9984)  class_error_unscaled: 100.0000 (46.7695)  loss_bbox_unscaled: 0.1048 (0.1819)  loss_giou_unscaled: 0.1949 (0.2934)  cardinality_error_unscaled: 1.0000 (46.7037)  loss_ce_0_unscaled: 0.8156 (1.2060)  loss_bbox_0_unscaled: 0.1427 (0.1838)  loss_giou_0_unscaled: 0.3020 (0.3353)  cardinality_error_0_unscaled: 33.5000 (70.3981)  loss_ce_1_unscaled: 0.7417 (1.1512)  loss_bbox_1_unscaled: 0.1492 (0.1791)  loss_giou_1_unscaled: 0.2862 (0.3206)  cardinality_error_1_unscaled: 18.0000 (64.4568)  loss_ce_2_unscaled: 0.6667 (1.1104)  loss_bbox_2_unscaled: 0.1347 (0.1853)  loss_giou_2_unscaled: 0.2569 (0.3160)  cardinality_error_2_unscaled: 8.5000 (58.8735)  loss_ce_3_unscaled: 0.5978 (1.0613)  loss_bbox_3_unscaled: 0.1044 (0.1830)  loss_giou_3_unscaled: 0.2057 (0.3063)  cardinality_error_3_unscaled: 5.0000 (53.4815)  loss_ce_4_unscaled: 0.5576 (1.0448)  loss_bbox_4_unscaled: 0.0977 (0.1833)  loss_giou_4_unscaled: 0.2059 (0.2998)  cardinality_error_4_unscaled: 3.0000 (50.6327)  time: 1.1163  data: 0.0109  max mem: 3519\n",
      "Epoch: [0]  [ 90/294]  eta: 0:03:51  lr: 0.000010  class_error: 100.00  loss: 9.7062 (15.0521)  loss_ce: 0.3929 (0.9239)  loss_bbox: 0.5869 (0.8868)  loss_giou: 0.4136 (0.5612)  loss_ce_0: 0.6871 (1.1459)  loss_bbox_0: 0.6065 (0.8811)  loss_giou_0: 0.5284 (0.6453)  loss_ce_1: 0.6015 (1.0887)  loss_bbox_1: 0.6808 (0.8642)  loss_giou_1: 0.4852 (0.6106)  loss_ce_2: 0.5258 (1.0414)  loss_bbox_2: 0.6931 (0.8961)  loss_giou_2: 0.4777 (0.6033)  loss_ce_3: 0.4630 (0.9897)  loss_bbox_3: 0.7103 (0.8934)  loss_giou_3: 0.4385 (0.5851)  loss_ce_4: 0.4370 (0.9708)  loss_bbox_4: 0.5936 (0.8920)  loss_giou_4: 0.4118 (0.5724)  loss_ce_unscaled: 0.3929 (0.9239)  class_error_unscaled: 100.0000 (52.2527)  loss_bbox_unscaled: 0.1174 (0.1774)  loss_giou_unscaled: 0.2068 (0.2806)  cardinality_error_unscaled: 0.2500 (41.6126)  loss_ce_0_unscaled: 0.6871 (1.1459)  loss_bbox_0_unscaled: 0.1213 (0.1762)  loss_giou_0_unscaled: 0.2642 (0.3226)  cardinality_error_0_unscaled: 18.5000 (64.3214)  loss_ce_1_unscaled: 0.6015 (1.0887)  loss_bbox_1_unscaled: 0.1362 (0.1728)  loss_giou_1_unscaled: 0.2426 (0.3053)  cardinality_error_1_unscaled: 9.7500 (58.0082)  loss_ce_2_unscaled: 0.5258 (1.0414)  loss_bbox_2_unscaled: 0.1386 (0.1792)  loss_giou_2_unscaled: 0.2389 (0.3017)  cardinality_error_2_unscaled: 2.7500 (52.5934)  loss_ce_3_unscaled: 0.4630 (0.9897)  loss_bbox_3_unscaled: 0.1421 (0.1787)  loss_giou_3_unscaled: 0.2193 (0.2926)  cardinality_error_3_unscaled: 1.0000 (47.6896)  loss_ce_4_unscaled: 0.4370 (0.9708)  loss_bbox_4_unscaled: 0.1187 (0.1784)  loss_giou_4_unscaled: 0.2059 (0.2862)  cardinality_error_4_unscaled: 0.7500 (45.1319)  time: 1.0960  data: 0.0111  max mem: 3519\n",
      "Epoch: [0]  [100/294]  eta: 0:03:40  lr: 0.000010  class_error: 100.00  loss: 8.5888 (14.6660)  loss_ce: 0.2607 (0.8577)  loss_bbox: 0.5954 (0.8907)  loss_giou: 0.4306 (0.5577)  loss_ce_0: 0.6112 (1.0882)  loss_bbox_0: 0.5793 (0.8836)  loss_giou_0: 0.5177 (0.6502)  loss_ce_1: 0.5554 (1.0305)  loss_bbox_1: 0.4520 (0.8633)  loss_giou_1: 0.3567 (0.6017)  loss_ce_2: 0.4316 (0.9776)  loss_bbox_2: 0.5367 (0.8994)  loss_giou_2: 0.4777 (0.5964)  loss_ce_3: 0.3606 (0.9245)  loss_bbox_3: 0.7088 (0.8950)  loss_giou_3: 0.4444 (0.5806)  loss_ce_4: 0.3137 (0.9040)  loss_bbox_4: 0.5940 (0.8962)  loss_giou_4: 0.4405 (0.5688)  loss_ce_unscaled: 0.2607 (0.8577)  class_error_unscaled: 100.0000 (56.9802)  loss_bbox_unscaled: 0.1191 (0.1781)  loss_giou_unscaled: 0.2153 (0.2788)  cardinality_error_unscaled: 0.2500 (37.5198)  loss_ce_0_unscaled: 0.6112 (1.0882)  loss_bbox_0_unscaled: 0.1159 (0.1767)  loss_giou_0_unscaled: 0.2588 (0.3251)  cardinality_error_0_unscaled: 13.0000 (58.6114)  loss_ce_1_unscaled: 0.5554 (1.0305)  loss_bbox_1_unscaled: 0.0904 (0.1727)  loss_giou_1_unscaled: 0.1784 (0.3009)  cardinality_error_1_unscaled: 2.5000 (52.4530)  loss_ce_2_unscaled: 0.4316 (0.9776)  loss_bbox_2_unscaled: 0.1073 (0.1799)  loss_giou_2_unscaled: 0.2389 (0.2982)  cardinality_error_2_unscaled: 0.5000 (47.4579)  loss_ce_3_unscaled: 0.3606 (0.9245)  loss_bbox_3_unscaled: 0.1418 (0.1790)  loss_giou_3_unscaled: 0.2222 (0.2903)  cardinality_error_3_unscaled: 0.2500 (43.0173)  loss_ce_4_unscaled: 0.3137 (0.9040)  loss_bbox_4_unscaled: 0.1188 (0.1792)  loss_giou_4_unscaled: 0.2202 (0.2844)  cardinality_error_4_unscaled: 0.2500 (40.6881)  time: 1.1187  data: 0.0111  max mem: 3519\n",
      "Epoch: [0]  [110/294]  eta: 0:03:30  lr: 0.000010  class_error: 100.00  loss: 8.8164 (14.4633)  loss_ce: 0.2450 (0.8025)  loss_bbox: 0.5972 (0.9016)  loss_giou: 0.4723 (0.5676)  loss_ce_0: 0.5225 (1.0360)  loss_bbox_0: 0.7943 (0.9082)  loss_giou_0: 0.6813 (0.6566)  loss_ce_1: 0.4659 (0.9788)  loss_bbox_1: 0.5619 (0.8772)  loss_giou_1: 0.5399 (0.6074)  loss_ce_2: 0.3635 (0.9218)  loss_bbox_2: 0.5420 (0.9115)  loss_giou_2: 0.5170 (0.6045)  loss_ce_3: 0.3119 (0.8687)  loss_bbox_3: 0.7044 (0.9000)  loss_giou_3: 0.5704 (0.5909)  loss_ce_4: 0.2817 (0.8476)  loss_bbox_4: 0.6424 (0.9041)  loss_giou_4: 0.4971 (0.5782)  loss_ce_unscaled: 0.2450 (0.8025)  class_error_unscaled: 100.0000 (60.8559)  loss_bbox_unscaled: 0.1194 (0.1803)  loss_giou_unscaled: 0.2361 (0.2838)  cardinality_error_unscaled: 0.2500 (34.1734)  loss_ce_0_unscaled: 0.5225 (1.0360)  loss_bbox_0_unscaled: 0.1589 (0.1816)  loss_giou_0_unscaled: 0.3407 (0.3283)  cardinality_error_0_unscaled: 3.2500 (53.7748)  loss_ce_1_unscaled: 0.4659 (0.9788)  loss_bbox_1_unscaled: 0.1124 (0.1754)  loss_giou_1_unscaled: 0.2699 (0.3037)  cardinality_error_1_unscaled: 0.7500 (47.8896)  loss_ce_2_unscaled: 0.3635 (0.9218)  loss_bbox_2_unscaled: 0.1084 (0.1823)  loss_giou_2_unscaled: 0.2585 (0.3022)  cardinality_error_2_unscaled: 0.2500 (43.2680)  loss_ce_3_unscaled: 0.3119 (0.8687)  loss_bbox_3_unscaled: 0.1409 (0.1800)  loss_giou_3_unscaled: 0.2852 (0.2954)  cardinality_error_3_unscaled: 0.2500 (39.1959)  loss_ce_4_unscaled: 0.2817 (0.8476)  loss_bbox_4_unscaled: 0.1285 (0.1808)  loss_giou_4_unscaled: 0.2486 (0.2891)  cardinality_error_4_unscaled: 0.2500 (37.0608)  time: 1.1649  data: 0.0110  max mem: 3519\n",
      "Epoch: [0]  [120/294]  eta: 0:03:19  lr: 0.000010  class_error: 100.00  loss: 9.0808 (13.9862)  loss_ce: 0.2276 (0.7546)  loss_bbox: 0.7517 (0.8785)  loss_giou: 0.4171 (0.5517)  loss_ce_0: 0.4723 (0.9889)  loss_bbox_0: 0.8057 (0.8990)  loss_giou_0: 0.6813 (0.6487)  loss_ce_1: 0.4275 (0.9331)  loss_bbox_1: 0.6860 (0.8632)  loss_giou_1: 0.5788 (0.5971)  loss_ce_2: 0.3460 (0.8727)  loss_bbox_2: 0.6094 (0.8907)  loss_giou_2: 0.5059 (0.5882)  loss_ce_3: 0.2940 (0.8200)  loss_bbox_3: 0.7044 (0.8801)  loss_giou_3: 0.4894 (0.5754)  loss_ce_4: 0.2674 (0.7984)  loss_bbox_4: 0.6790 (0.8831)  loss_giou_4: 0.4325 (0.5626)  loss_ce_unscaled: 0.2276 (0.7546)  class_error_unscaled: 100.0000 (64.0909)  loss_bbox_unscaled: 0.1503 (0.1757)  loss_giou_unscaled: 0.2086 (0.2758)  cardinality_error_unscaled: 0.2500 (31.3781)  loss_ce_0_unscaled: 0.4723 (0.9889)  loss_bbox_0_unscaled: 0.1611 (0.1798)  loss_giou_0_unscaled: 0.3407 (0.3244)  cardinality_error_0_unscaled: 2.0000 (49.5950)  loss_ce_1_unscaled: 0.4275 (0.9331)  loss_bbox_1_unscaled: 0.1372 (0.1726)  loss_giou_1_unscaled: 0.2894 (0.2985)  cardinality_error_1_unscaled: 0.7500 (44.0393)  loss_ce_2_unscaled: 0.3460 (0.8727)  loss_bbox_2_unscaled: 0.1219 (0.1781)  loss_giou_2_unscaled: 0.2530 (0.2941)  cardinality_error_2_unscaled: 0.2500 (39.7211)  loss_ce_3_unscaled: 0.2940 (0.8200)  loss_bbox_3_unscaled: 0.1409 (0.1760)  loss_giou_3_unscaled: 0.2447 (0.2877)  cardinality_error_3_unscaled: 0.2500 (35.9855)  loss_ce_4_unscaled: 0.2674 (0.7984)  loss_bbox_4_unscaled: 0.1358 (0.1766)  loss_giou_4_unscaled: 0.2162 (0.2813)  cardinality_error_4_unscaled: 0.2500 (34.0269)  time: 1.1849  data: 0.0121  max mem: 3519\n",
      "Epoch: [0]  [130/294]  eta: 0:03:07  lr: 0.000010  class_error: 100.00  loss: 7.7445 (13.5738)  loss_ce: 0.2009 (0.7102)  loss_bbox: 0.4566 (0.8618)  loss_giou: 0.4076 (0.5435)  loss_ce_0: 0.4549 (0.9463)  loss_bbox_0: 0.6602 (0.8927)  loss_giou_0: 0.5863 (0.6413)  loss_ce_1: 0.4105 (0.8905)  loss_bbox_1: 0.5753 (0.8520)  loss_giou_1: 0.4146 (0.5851)  loss_ce_2: 0.3127 (0.8278)  loss_bbox_2: 0.4493 (0.8717)  loss_giou_2: 0.4100 (0.5795)  loss_ce_3: 0.2640 (0.7752)  loss_bbox_3: 0.4695 (0.8594)  loss_giou_3: 0.3963 (0.5650)  loss_ce_4: 0.2301 (0.7531)  loss_bbox_4: 0.5086 (0.8628)  loss_giou_4: 0.4307 (0.5560)  loss_ce_unscaled: 0.2009 (0.7102)  class_error_unscaled: 100.0000 (66.8321)  loss_bbox_unscaled: 0.0913 (0.1724)  loss_giou_unscaled: 0.2038 (0.2717)  cardinality_error_unscaled: 0.2500 (29.0000)  loss_ce_0_unscaled: 0.4549 (0.9463)  loss_bbox_0_unscaled: 0.1320 (0.1785)  loss_giou_0_unscaled: 0.2932 (0.3207)  cardinality_error_0_unscaled: 2.0000 (45.9733)  loss_ce_1_unscaled: 0.4105 (0.8905)  loss_bbox_1_unscaled: 0.1151 (0.1704)  loss_giou_1_unscaled: 0.2073 (0.2925)  cardinality_error_1_unscaled: 0.5000 (40.7443)  loss_ce_2_unscaled: 0.3127 (0.8278)  loss_bbox_2_unscaled: 0.0899 (0.1743)  loss_giou_2_unscaled: 0.2050 (0.2897)  cardinality_error_2_unscaled: 0.2500 (36.7176)  loss_ce_3_unscaled: 0.2640 (0.7752)  loss_bbox_3_unscaled: 0.0939 (0.1719)  loss_giou_3_unscaled: 0.1981 (0.2825)  cardinality_error_3_unscaled: 0.2500 (33.2672)  loss_ce_4_unscaled: 0.2301 (0.7531)  loss_bbox_4_unscaled: 0.1017 (0.1726)  loss_giou_4_unscaled: 0.2153 (0.2780)  cardinality_error_4_unscaled: 0.2500 (31.4466)  time: 1.1621  data: 0.0130  max mem: 3519\n",
      "Epoch: [0]  [140/294]  eta: 0:02:57  lr: 0.000010  class_error: 100.00  loss: 7.5467 (13.3317)  loss_ce: 0.1768 (0.6723)  loss_bbox: 0.4187 (0.8623)  loss_giou: 0.3454 (0.5441)  loss_ce_0: 0.3983 (0.9066)  loss_bbox_0: 0.7698 (0.8941)  loss_giou_0: 0.6092 (0.6442)  loss_ce_1: 0.3592 (0.8514)  loss_bbox_1: 0.4595 (0.8508)  loss_giou_1: 0.4146 (0.5826)  loss_ce_2: 0.2710 (0.7871)  loss_bbox_2: 0.4412 (0.8694)  loss_giou_2: 0.3975 (0.5782)  loss_ce_3: 0.2300 (0.7354)  loss_bbox_3: 0.3892 (0.8581)  loss_giou_3: 0.3451 (0.5635)  loss_ce_4: 0.2119 (0.7135)  loss_bbox_4: 0.4145 (0.8627)  loss_giou_4: 0.3478 (0.5554)  loss_ce_unscaled: 0.1768 (0.6723)  class_error_unscaled: 100.0000 (69.1844)  loss_bbox_unscaled: 0.0837 (0.1725)  loss_giou_unscaled: 0.1727 (0.2720)  cardinality_error_unscaled: 0.2500 (26.9663)  loss_ce_0_unscaled: 0.3983 (0.9066)  loss_bbox_0_unscaled: 0.1540 (0.1788)  loss_giou_0_unscaled: 0.3046 (0.3221)  cardinality_error_0_unscaled: 0.7500 (42.7837)  loss_ce_1_unscaled: 0.3592 (0.8514)  loss_bbox_1_unscaled: 0.0919 (0.1702)  loss_giou_1_unscaled: 0.2073 (0.2913)  cardinality_error_1_unscaled: 0.2500 (37.8954)  loss_ce_2_unscaled: 0.2710 (0.7871)  loss_bbox_2_unscaled: 0.0882 (0.1739)  loss_giou_2_unscaled: 0.1988 (0.2891)  cardinality_error_2_unscaled: 0.2500 (34.1348)  loss_ce_3_unscaled: 0.2300 (0.7354)  loss_bbox_3_unscaled: 0.0778 (0.1716)  loss_giou_3_unscaled: 0.1725 (0.2818)  cardinality_error_3_unscaled: 0.2500 (30.9326)  loss_ce_4_unscaled: 0.2119 (0.7135)  loss_bbox_4_unscaled: 0.0829 (0.1725)  loss_giou_4_unscaled: 0.1739 (0.2777)  cardinality_error_4_unscaled: 0.2500 (29.2411)  time: 1.1758  data: 0.0123  max mem: 3519\n",
      "Epoch: [0]  [150/294]  eta: 0:02:46  lr: 0.000010  class_error: 100.00  loss: 7.0760 (12.9337)  loss_ce: 0.1455 (0.6377)  loss_bbox: 0.4142 (0.8378)  loss_giou: 0.3454 (0.5380)  loss_ce_0: 0.3349 (0.8685)  loss_bbox_0: 0.6779 (0.8742)  loss_giou_0: 0.5174 (0.6361)  loss_ce_1: 0.3113 (0.8142)  loss_bbox_1: 0.5036 (0.8359)  loss_giou_1: 0.4383 (0.5750)  loss_ce_2: 0.2307 (0.7494)  loss_bbox_2: 0.4412 (0.8473)  loss_giou_2: 0.3794 (0.5680)  loss_ce_3: 0.1782 (0.6988)  loss_bbox_3: 0.4371 (0.8330)  loss_giou_3: 0.3451 (0.5554)  loss_ce_4: 0.1670 (0.6774)  loss_bbox_4: 0.4047 (0.8380)  loss_giou_4: 0.3376 (0.5491)  loss_ce_unscaled: 0.1455 (0.6377)  class_error_unscaled: 100.0000 (71.2252)  loss_bbox_unscaled: 0.0828 (0.1676)  loss_giou_unscaled: 0.1727 (0.2690)  cardinality_error_unscaled: 0.2500 (25.1987)  loss_ce_0_unscaled: 0.3349 (0.8685)  loss_bbox_0_unscaled: 0.1356 (0.1748)  loss_giou_0_unscaled: 0.2587 (0.3180)  cardinality_error_0_unscaled: 0.5000 (39.9950)  loss_ce_1_unscaled: 0.3113 (0.8142)  loss_bbox_1_unscaled: 0.1007 (0.1672)  loss_giou_1_unscaled: 0.2192 (0.2875)  cardinality_error_1_unscaled: 0.2500 (35.4056)  loss_ce_2_unscaled: 0.2307 (0.7494)  loss_bbox_2_unscaled: 0.0882 (0.1695)  loss_giou_2_unscaled: 0.1897 (0.2840)  cardinality_error_2_unscaled: 0.2500 (31.8924)  loss_ce_3_unscaled: 0.1782 (0.6988)  loss_bbox_3_unscaled: 0.0874 (0.1666)  loss_giou_3_unscaled: 0.1725 (0.2777)  cardinality_error_3_unscaled: 0.2500 (28.9023)  loss_ce_4_unscaled: 0.1670 (0.6774)  loss_bbox_4_unscaled: 0.0809 (0.1676)  loss_giou_4_unscaled: 0.1688 (0.2746)  cardinality_error_4_unscaled: 0.2500 (27.3228)  time: 1.2140  data: 0.0113  max mem: 3519\n",
      "Epoch: [0]  [160/294]  eta: 0:02:34  lr: 0.000010  class_error: 100.00  loss: 7.0643 (12.5901)  loss_ce: 0.1455 (0.6103)  loss_bbox: 0.4069 (0.8170)  loss_giou: 0.3383 (0.5308)  loss_ce_0: 0.3193 (0.8350)  loss_bbox_0: 0.6636 (0.8619)  loss_giou_0: 0.4568 (0.6267)  loss_ce_1: 0.2718 (0.7819)  loss_bbox_1: 0.5036 (0.8203)  loss_giou_1: 0.4153 (0.5657)  loss_ce_2: 0.2071 (0.7175)  loss_bbox_2: 0.3726 (0.8278)  loss_giou_2: 0.3520 (0.5576)  loss_ce_3: 0.1954 (0.6687)  loss_bbox_3: 0.4371 (0.8149)  loss_giou_3: 0.3520 (0.5469)  loss_ce_4: 0.1689 (0.6479)  loss_bbox_4: 0.3978 (0.8185)  loss_giou_4: 0.3223 (0.5406)  loss_ce_unscaled: 0.1455 (0.6103)  class_error_unscaled: 100.0000 (73.0124)  loss_bbox_unscaled: 0.0814 (0.1634)  loss_giou_unscaled: 0.1692 (0.2654)  cardinality_error_unscaled: 0.2500 (23.6615)  loss_ce_0_unscaled: 0.3193 (0.8350)  loss_bbox_0_unscaled: 0.1327 (0.1724)  loss_giou_0_unscaled: 0.2284 (0.3133)  cardinality_error_0_unscaled: 0.5000 (37.5404)  loss_ce_1_unscaled: 0.2718 (0.7819)  loss_bbox_1_unscaled: 0.1007 (0.1641)  loss_giou_1_unscaled: 0.2077 (0.2829)  cardinality_error_1_unscaled: 0.2500 (33.2345)  loss_ce_2_unscaled: 0.2071 (0.7175)  loss_bbox_2_unscaled: 0.0745 (0.1656)  loss_giou_2_unscaled: 0.1760 (0.2788)  cardinality_error_2_unscaled: 0.2500 (29.9394)  loss_ce_3_unscaled: 0.1954 (0.6687)  loss_bbox_3_unscaled: 0.0874 (0.1630)  loss_giou_3_unscaled: 0.1760 (0.2735)  cardinality_error_3_unscaled: 0.2500 (27.1351)  loss_ce_4_unscaled: 0.1689 (0.6479)  loss_bbox_4_unscaled: 0.0796 (0.1637)  loss_giou_4_unscaled: 0.1611 (0.2703)  cardinality_error_4_unscaled: 0.2500 (25.6537)  time: 1.1853  data: 0.0116  max mem: 3519\n",
      "Epoch: [0]  [170/294]  eta: 0:02:23  lr: 0.000010  class_error: 100.00  loss: 7.0643 (12.2640)  loss_ce: 0.2086 (0.5851)  loss_bbox: 0.4154 (0.7989)  loss_giou: 0.3516 (0.5243)  loss_ce_0: 0.3193 (0.8027)  loss_bbox_0: 0.6636 (0.8443)  loss_giou_0: 0.4281 (0.6189)  loss_ce_1: 0.2782 (0.7510)  loss_bbox_1: 0.4990 (0.8041)  loss_giou_1: 0.3501 (0.5573)  loss_ce_2: 0.2317 (0.6874)  loss_bbox_2: 0.4838 (0.8080)  loss_giou_2: 0.3701 (0.5491)  loss_ce_3: 0.2120 (0.6405)  loss_bbox_3: 0.5174 (0.7983)  loss_giou_3: 0.3904 (0.5403)  loss_ce_4: 0.2069 (0.6206)  loss_bbox_4: 0.5094 (0.7995)  loss_giou_4: 0.3677 (0.5338)  loss_ce_unscaled: 0.2086 (0.5851)  class_error_unscaled: 100.0000 (74.5906)  loss_bbox_unscaled: 0.0831 (0.1598)  loss_giou_unscaled: 0.1758 (0.2621)  cardinality_error_unscaled: 0.5000 (22.3012)  loss_ce_0_unscaled: 0.3193 (0.8027)  loss_bbox_0_unscaled: 0.1327 (0.1689)  loss_giou_0_unscaled: 0.2141 (0.3095)  cardinality_error_0_unscaled: 0.5000 (35.3684)  loss_ce_1_unscaled: 0.2782 (0.7510)  loss_bbox_1_unscaled: 0.0998 (0.1608)  loss_giou_1_unscaled: 0.1751 (0.2787)  cardinality_error_1_unscaled: 0.5000 (31.3143)  loss_ce_2_unscaled: 0.2317 (0.6874)  loss_bbox_2_unscaled: 0.0968 (0.1616)  loss_giou_2_unscaled: 0.1850 (0.2745)  cardinality_error_2_unscaled: 0.5000 (28.2120)  loss_ce_3_unscaled: 0.2120 (0.6405)  loss_bbox_3_unscaled: 0.1035 (0.1597)  loss_giou_3_unscaled: 0.1952 (0.2702)  cardinality_error_3_unscaled: 0.5000 (25.5716)  loss_ce_4_unscaled: 0.2069 (0.6206)  loss_bbox_4_unscaled: 0.1019 (0.1599)  loss_giou_4_unscaled: 0.1839 (0.2669)  cardinality_error_4_unscaled: 0.5000 (24.1769)  time: 1.1588  data: 0.0118  max mem: 3519\n",
      "Epoch: [0]  [180/294]  eta: 0:02:11  lr: 0.000010  class_error: 100.00  loss: 6.0871 (11.9197)  loss_ce: 0.1303 (0.5599)  loss_bbox: 0.3936 (0.7783)  loss_giou: 0.3186 (0.5132)  loss_ce_0: 0.2533 (0.7717)  loss_bbox_0: 0.4503 (0.8273)  loss_giou_0: 0.3795 (0.6082)  loss_ce_1: 0.2243 (0.7212)  loss_bbox_1: 0.5279 (0.7882)  loss_giou_1: 0.3612 (0.5488)  loss_ce_2: 0.1633 (0.6586)  loss_bbox_2: 0.5171 (0.7895)  loss_giou_2: 0.3701 (0.5384)  loss_ce_3: 0.1457 (0.6132)  loss_bbox_3: 0.4054 (0.7789)  loss_giou_3: 0.3766 (0.5290)  loss_ce_4: 0.1415 (0.5939)  loss_bbox_4: 0.3887 (0.7790)  loss_giou_4: 0.3167 (0.5224)  loss_ce_unscaled: 0.1303 (0.5599)  class_error_unscaled: 100.0000 (75.9945)  loss_bbox_unscaled: 0.0787 (0.1557)  loss_giou_unscaled: 0.1593 (0.2566)  cardinality_error_unscaled: 0.2500 (21.0843)  loss_ce_0_unscaled: 0.2533 (0.7717)  loss_bbox_0_unscaled: 0.0901 (0.1655)  loss_giou_0_unscaled: 0.1898 (0.3041)  cardinality_error_0_unscaled: 0.2500 (33.4296)  loss_ce_1_unscaled: 0.2243 (0.7212)  loss_bbox_1_unscaled: 0.1056 (0.1576)  loss_giou_1_unscaled: 0.1806 (0.2744)  cardinality_error_1_unscaled: 0.2500 (29.5994)  loss_ce_2_unscaled: 0.1633 (0.6586)  loss_bbox_2_unscaled: 0.1034 (0.1579)  loss_giou_2_unscaled: 0.1850 (0.2692)  cardinality_error_2_unscaled: 0.2500 (26.6685)  loss_ce_3_unscaled: 0.1457 (0.6132)  loss_bbox_3_unscaled: 0.0811 (0.1558)  loss_giou_3_unscaled: 0.1883 (0.2645)  cardinality_error_3_unscaled: 0.2500 (24.1740)  loss_ce_4_unscaled: 0.1415 (0.5939)  loss_bbox_4_unscaled: 0.0777 (0.1558)  loss_giou_4_unscaled: 0.1583 (0.2612)  cardinality_error_4_unscaled: 0.2500 (22.8564)  time: 1.1401  data: 0.0115  max mem: 3519\n",
      "Epoch: [0]  [190/294]  eta: 0:01:59  lr: 0.000010  class_error: 100.00  loss: 5.2155 (11.7087)  loss_ce: 0.1237 (0.5379)  loss_bbox: 0.3355 (0.7723)  loss_giou: 0.2903 (0.5115)  loss_ce_0: 0.2086 (0.7428)  loss_bbox_0: 0.3481 (0.8207)  loss_giou_0: 0.3835 (0.6033)  loss_ce_1: 0.1830 (0.6935)  loss_bbox_1: 0.5020 (0.7835)  loss_giou_1: 0.3969 (0.5459)  loss_ce_2: 0.1456 (0.6323)  loss_bbox_2: 0.3502 (0.7823)  loss_giou_2: 0.3000 (0.5347)  loss_ce_3: 0.1366 (0.5886)  loss_bbox_3: 0.3693 (0.7689)  loss_giou_3: 0.3766 (0.5249)  loss_ce_4: 0.1288 (0.5701)  loss_bbox_4: 0.3451 (0.7734)  loss_giou_4: 0.2778 (0.5220)  loss_ce_unscaled: 0.1237 (0.5379)  class_error_unscaled: 100.0000 (77.2513)  loss_bbox_unscaled: 0.0671 (0.1545)  loss_giou_unscaled: 0.1452 (0.2558)  cardinality_error_unscaled: 0.2500 (19.9961)  loss_ce_0_unscaled: 0.2086 (0.7428)  loss_bbox_0_unscaled: 0.0696 (0.1641)  loss_giou_0_unscaled: 0.1917 (0.3017)  cardinality_error_0_unscaled: 0.2500 (31.6950)  loss_ce_1_unscaled: 0.1830 (0.6935)  loss_bbox_1_unscaled: 0.1004 (0.1567)  loss_giou_1_unscaled: 0.1984 (0.2730)  cardinality_error_1_unscaled: 0.2500 (28.0654)  loss_ce_2_unscaled: 0.1456 (0.6323)  loss_bbox_2_unscaled: 0.0700 (0.1565)  loss_giou_2_unscaled: 0.1500 (0.2673)  cardinality_error_2_unscaled: 0.2500 (25.2880)  loss_ce_3_unscaled: 0.1366 (0.5886)  loss_bbox_3_unscaled: 0.0739 (0.1538)  loss_giou_3_unscaled: 0.1883 (0.2624)  cardinality_error_3_unscaled: 0.2500 (22.9241)  loss_ce_4_unscaled: 0.1288 (0.5701)  loss_bbox_4_unscaled: 0.0690 (0.1547)  loss_giou_4_unscaled: 0.1389 (0.2610)  cardinality_error_4_unscaled: 0.2500 (21.6754)  time: 1.1473  data: 0.0114  max mem: 3519\n",
      "Epoch: [0]  [200/294]  eta: 0:01:48  lr: 0.000010  class_error: 100.00  loss: 2.7584 (11.2457)  loss_ce: 0.1027 (0.5145)  loss_bbox: 0.1457 (0.7411)  loss_giou: 0.1291 (0.4935)  loss_ce_0: 0.1744 (0.7138)  loss_bbox_0: 0.2281 (0.7894)  loss_giou_0: 0.2067 (0.5816)  loss_ce_1: 0.1602 (0.6656)  loss_bbox_1: 0.1439 (0.7530)  loss_giou_1: 0.1516 (0.5264)  loss_ce_2: 0.1278 (0.6056)  loss_bbox_2: 0.1270 (0.7493)  loss_giou_2: 0.1234 (0.5150)  loss_ce_3: 0.1120 (0.5634)  loss_bbox_3: 0.1220 (0.7371)  loss_giou_3: 0.1448 (0.5058)  loss_ce_4: 0.1079 (0.5455)  loss_bbox_4: 0.1123 (0.7423)  loss_giou_4: 0.1490 (0.5028)  loss_ce_unscaled: 0.1027 (0.5145)  class_error_unscaled: 100.0000 (78.3831)  loss_bbox_unscaled: 0.0291 (0.1482)  loss_giou_unscaled: 0.0646 (0.2467)  cardinality_error_unscaled: 0.2500 (19.0075)  loss_ce_0_unscaled: 0.1744 (0.7138)  loss_bbox_0_unscaled: 0.0456 (0.1579)  loss_giou_0_unscaled: 0.1033 (0.2908)  cardinality_error_0_unscaled: 0.2500 (30.1256)  loss_ce_1_unscaled: 0.1602 (0.6656)  loss_bbox_1_unscaled: 0.0288 (0.1506)  loss_giou_1_unscaled: 0.0758 (0.2632)  cardinality_error_1_unscaled: 0.2500 (26.6754)  loss_ce_2_unscaled: 0.1278 (0.6056)  loss_bbox_2_unscaled: 0.0254 (0.1499)  loss_giou_2_unscaled: 0.0617 (0.2575)  cardinality_error_2_unscaled: 0.2500 (24.0361)  loss_ce_3_unscaled: 0.1120 (0.5634)  loss_bbox_3_unscaled: 0.0244 (0.1474)  loss_giou_3_unscaled: 0.0724 (0.2529)  cardinality_error_3_unscaled: 0.2500 (21.7898)  loss_ce_4_unscaled: 0.1079 (0.5455)  loss_bbox_4_unscaled: 0.0225 (0.1485)  loss_giou_4_unscaled: 0.0745 (0.2514)  cardinality_error_4_unscaled: 0.2500 (20.6032)  time: 1.1484  data: 0.0106  max mem: 3519\n",
      "Epoch: [0]  [210/294]  eta: 0:01:36  lr: 0.000010  class_error: 100.00  loss: 2.7584 (10.9421)  loss_ce: 0.1027 (0.4985)  loss_bbox: 0.1802 (0.7229)  loss_giou: 0.2106 (0.4843)  loss_ce_0: 0.1719 (0.6890)  loss_bbox_0: 0.2281 (0.7761)  loss_giou_0: 0.2067 (0.5714)  loss_ce_1: 0.1476 (0.6424)  loss_bbox_1: 0.1439 (0.7325)  loss_giou_1: 0.1591 (0.5131)  loss_ce_2: 0.1268 (0.5845)  loss_bbox_2: 0.1182 (0.7267)  loss_giou_2: 0.1234 (0.5015)  loss_ce_3: 0.1120 (0.5443)  loss_bbox_3: 0.1220 (0.7179)  loss_giou_3: 0.1448 (0.4950)  loss_ce_4: 0.1079 (0.5274)  loss_bbox_4: 0.1123 (0.7223)  loss_giou_4: 0.1490 (0.4922)  loss_ce_unscaled: 0.1027 (0.4985)  class_error_unscaled: 100.0000 (79.4076)  loss_bbox_unscaled: 0.0360 (0.1446)  loss_giou_unscaled: 0.1053 (0.2421)  cardinality_error_unscaled: 0.2500 (18.1232)  loss_ce_0_unscaled: 0.1719 (0.6890)  loss_bbox_0_unscaled: 0.0456 (0.1552)  loss_giou_0_unscaled: 0.1033 (0.2857)  cardinality_error_0_unscaled: 0.2500 (28.7145)  loss_ce_1_unscaled: 0.1476 (0.6424)  loss_bbox_1_unscaled: 0.0288 (0.1465)  loss_giou_1_unscaled: 0.0796 (0.2566)  cardinality_error_1_unscaled: 0.2500 (25.4277)  loss_ce_2_unscaled: 0.1268 (0.5845)  loss_bbox_2_unscaled: 0.0236 (0.1453)  loss_giou_2_unscaled: 0.0617 (0.2508)  cardinality_error_2_unscaled: 0.2500 (22.9135)  loss_ce_3_unscaled: 0.1120 (0.5443)  loss_bbox_3_unscaled: 0.0244 (0.1436)  loss_giou_3_unscaled: 0.0724 (0.2475)  cardinality_error_3_unscaled: 0.2500 (20.7737)  loss_ce_4_unscaled: 0.1079 (0.5274)  loss_bbox_4_unscaled: 0.0225 (0.1445)  loss_giou_4_unscaled: 0.0745 (0.2461)  cardinality_error_4_unscaled: 0.2500 (19.6434)  time: 1.1362  data: 0.0108  max mem: 3519\n",
      "Epoch: [0]  [220/294]  eta: 0:01:25  lr: 0.000010  class_error: 100.00  loss: 6.2162 (10.6942)  loss_ce: 0.2301 (0.4867)  loss_bbox: 0.3023 (0.7052)  loss_giou: 0.3101 (0.4755)  loss_ce_0: 0.2147 (0.6675)  loss_bbox_0: 0.4956 (0.7645)  loss_giou_0: 0.4094 (0.5656)  loss_ce_1: 0.2091 (0.6226)  loss_bbox_1: 0.3994 (0.7170)  loss_giou_1: 0.3078 (0.5046)  loss_ce_2: 0.2008 (0.5673)  loss_bbox_2: 0.2956 (0.7088)  loss_giou_2: 0.3222 (0.4925)  loss_ce_3: 0.2088 (0.5292)  loss_bbox_3: 0.3494 (0.7009)  loss_giou_3: 0.3212 (0.4856)  loss_ce_4: 0.2108 (0.5135)  loss_bbox_4: 0.3147 (0.7042)  loss_giou_4: 0.3020 (0.4831)  loss_ce_unscaled: 0.2301 (0.4867)  class_error_unscaled: 100.0000 (80.3394)  loss_bbox_unscaled: 0.0605 (0.1410)  loss_giou_unscaled: 0.1550 (0.2378)  cardinality_error_unscaled: 0.5000 (17.3247)  loss_ce_0_unscaled: 0.2147 (0.6675)  loss_bbox_0_unscaled: 0.0991 (0.1529)  loss_giou_0_unscaled: 0.2047 (0.2828)  cardinality_error_0_unscaled: 0.5000 (27.4367)  loss_ce_1_unscaled: 0.2091 (0.6226)  loss_bbox_1_unscaled: 0.0799 (0.1434)  loss_giou_1_unscaled: 0.1539 (0.2523)  cardinality_error_1_unscaled: 0.5000 (24.2986)  loss_ce_2_unscaled: 0.2008 (0.5673)  loss_bbox_2_unscaled: 0.0591 (0.1418)  loss_giou_2_unscaled: 0.1611 (0.2462)  cardinality_error_2_unscaled: 0.5000 (21.8982)  loss_ce_3_unscaled: 0.2088 (0.5292)  loss_bbox_3_unscaled: 0.0699 (0.1402)  loss_giou_3_unscaled: 0.1606 (0.2428)  cardinality_error_3_unscaled: 0.5000 (19.8552)  loss_ce_4_unscaled: 0.2108 (0.5135)  loss_bbox_4_unscaled: 0.0629 (0.1408)  loss_giou_4_unscaled: 0.1510 (0.2416)  cardinality_error_4_unscaled: 0.5000 (18.7760)  time: 1.1731  data: 0.0119  max mem: 3519\n",
      "Epoch: [0]  [230/294]  eta: 0:01:13  lr: 0.000010  class_error: 100.00  loss: 7.0459 (10.5620)  loss_ce: 0.2528 (0.4761)  loss_bbox: 0.4342 (0.6971)  loss_giou: 0.3988 (0.4759)  loss_ce_0: 0.2110 (0.6476)  loss_bbox_0: 0.6057 (0.7606)  loss_giou_0: 0.5167 (0.5676)  loss_ce_1: 0.2072 (0.6045)  loss_bbox_1: 0.4238 (0.7096)  loss_giou_1: 0.3716 (0.5037)  loss_ce_2: 0.1982 (0.5514)  loss_bbox_2: 0.3990 (0.7018)  loss_giou_2: 0.3726 (0.4934)  loss_ce_3: 0.2140 (0.5155)  loss_bbox_3: 0.4322 (0.6930)  loss_giou_3: 0.3419 (0.4851)  loss_ce_4: 0.2243 (0.5009)  loss_bbox_4: 0.4106 (0.6967)  loss_giou_4: 0.3541 (0.4814)  loss_ce_unscaled: 0.2528 (0.4761)  class_error_unscaled: 100.0000 (81.1905)  loss_bbox_unscaled: 0.0868 (0.1394)  loss_giou_unscaled: 0.1994 (0.2380)  cardinality_error_unscaled: 0.5000 (16.5952)  loss_ce_0_unscaled: 0.2110 (0.6476)  loss_bbox_0_unscaled: 0.1211 (0.1521)  loss_giou_0_unscaled: 0.2583 (0.2838)  cardinality_error_0_unscaled: 0.5000 (26.2695)  loss_ce_1_unscaled: 0.2072 (0.6045)  loss_bbox_1_unscaled: 0.0848 (0.1419)  loss_giou_1_unscaled: 0.1858 (0.2519)  cardinality_error_1_unscaled: 0.5000 (23.2673)  loss_ce_2_unscaled: 0.1982 (0.5514)  loss_bbox_2_unscaled: 0.0798 (0.1404)  loss_giou_2_unscaled: 0.1863 (0.2467)  cardinality_error_2_unscaled: 0.5000 (20.9708)  loss_ce_3_unscaled: 0.2140 (0.5155)  loss_bbox_3_unscaled: 0.0864 (0.1386)  loss_giou_3_unscaled: 0.1709 (0.2426)  cardinality_error_3_unscaled: 0.5000 (19.0162)  loss_ce_4_unscaled: 0.2243 (0.5009)  loss_bbox_4_unscaled: 0.0821 (0.1393)  loss_giou_4_unscaled: 0.1771 (0.2407)  cardinality_error_4_unscaled: 0.5000 (17.9838)  time: 1.1930  data: 0.0121  max mem: 3519\n",
      "Epoch: [0]  [240/294]  eta: 0:01:02  lr: 0.000010  class_error: 100.00  loss: 5.9960 (10.3492)  loss_ce: 0.1350 (0.4614)  loss_bbox: 0.3905 (0.6865)  loss_giou: 0.3989 (0.4698)  loss_ce_0: 0.1431 (0.6262)  loss_bbox_0: 0.4161 (0.7476)  loss_giou_0: 0.5343 (0.5616)  loss_ce_1: 0.1330 (0.5845)  loss_bbox_1: 0.3542 (0.6976)  loss_giou_1: 0.3440 (0.4979)  loss_ce_2: 0.1211 (0.5332)  loss_bbox_2: 0.3921 (0.6907)  loss_giou_2: 0.3979 (0.4884)  loss_ce_3: 0.1195 (0.4987)  loss_bbox_3: 0.3361 (0.6819)  loss_giou_3: 0.3420 (0.4790)  loss_ce_4: 0.1216 (0.4847)  loss_bbox_4: 0.4102 (0.6854)  loss_giou_4: 0.3846 (0.4741)  loss_ce_unscaled: 0.1350 (0.4614)  class_error_unscaled: 100.0000 (81.9710)  loss_bbox_unscaled: 0.0781 (0.1373)  loss_giou_unscaled: 0.1994 (0.2349)  cardinality_error_unscaled: 0.2500 (15.9160)  loss_ce_0_unscaled: 0.1431 (0.6262)  loss_bbox_0_unscaled: 0.0832 (0.1495)  loss_giou_0_unscaled: 0.2672 (0.2808)  cardinality_error_0_unscaled: 0.2500 (25.1888)  loss_ce_1_unscaled: 0.1330 (0.5845)  loss_bbox_1_unscaled: 0.0708 (0.1395)  loss_giou_1_unscaled: 0.1720 (0.2489)  cardinality_error_1_unscaled: 0.2500 (22.3112)  loss_ce_2_unscaled: 0.1211 (0.5332)  loss_bbox_2_unscaled: 0.0784 (0.1381)  loss_giou_2_unscaled: 0.1989 (0.2442)  cardinality_error_2_unscaled: 0.2500 (20.1100)  loss_ce_3_unscaled: 0.1195 (0.4987)  loss_bbox_3_unscaled: 0.0672 (0.1364)  loss_giou_3_unscaled: 0.1710 (0.2395)  cardinality_error_3_unscaled: 0.2500 (18.2365)  loss_ce_4_unscaled: 0.1216 (0.4847)  loss_bbox_4_unscaled: 0.0820 (0.1371)  loss_giou_4_unscaled: 0.1923 (0.2371)  cardinality_error_4_unscaled: 0.2500 (17.2469)  time: 1.1652  data: 0.0112  max mem: 3519\n",
      "Epoch: [0]  [250/294]  eta: 0:00:50  lr: 0.000010  class_error: 100.00  loss: 5.9960 (10.2663)  loss_ce: 0.1350 (0.4508)  loss_bbox: 0.4482 (0.6889)  loss_giou: 0.4079 (0.4734)  loss_ce_0: 0.1388 (0.6083)  loss_bbox_0: 0.3760 (0.7445)  loss_giou_0: 0.4568 (0.5579)  loss_ce_1: 0.1269 (0.5678)  loss_bbox_1: 0.3368 (0.6969)  loss_giou_1: 0.3440 (0.4973)  loss_ce_2: 0.1211 (0.5187)  loss_bbox_2: 0.4515 (0.6912)  loss_giou_2: 0.3752 (0.4872)  loss_ce_3: 0.1203 (0.4859)  loss_bbox_3: 0.3361 (0.6813)  loss_giou_3: 0.3614 (0.4810)  loss_ce_4: 0.1237 (0.4727)  loss_bbox_4: 0.4102 (0.6869)  loss_giou_4: 0.4258 (0.4758)  loss_ce_unscaled: 0.1350 (0.4508)  class_error_unscaled: 100.0000 (82.6892)  loss_bbox_unscaled: 0.0896 (0.1378)  loss_giou_unscaled: 0.2039 (0.2367)  cardinality_error_unscaled: 0.2500 (15.2968)  loss_ce_0_unscaled: 0.1388 (0.6083)  loss_bbox_0_unscaled: 0.0752 (0.1489)  loss_giou_0_unscaled: 0.2284 (0.2790)  cardinality_error_0_unscaled: 0.2500 (24.2002)  loss_ce_1_unscaled: 0.1269 (0.5678)  loss_bbox_1_unscaled: 0.0674 (0.1394)  loss_giou_1_unscaled: 0.1720 (0.2486)  cardinality_error_1_unscaled: 0.2500 (21.4373)  loss_ce_2_unscaled: 0.1211 (0.5187)  loss_bbox_2_unscaled: 0.0903 (0.1382)  loss_giou_2_unscaled: 0.1876 (0.2436)  cardinality_error_2_unscaled: 0.2500 (19.3237)  loss_ce_3_unscaled: 0.1203 (0.4859)  loss_bbox_3_unscaled: 0.0672 (0.1363)  loss_giou_3_unscaled: 0.1807 (0.2405)  cardinality_error_3_unscaled: 0.2500 (17.5249)  loss_ce_4_unscaled: 0.1237 (0.4727)  loss_bbox_4_unscaled: 0.0820 (0.1374)  loss_giou_4_unscaled: 0.2129 (0.2379)  cardinality_error_4_unscaled: 0.2500 (16.5747)  time: 1.1450  data: 0.0108  max mem: 3519\n",
      "Epoch: [0]  [260/294]  eta: 0:00:39  lr: 0.000010  class_error: 100.00  loss: 6.7584 (10.1157)  loss_ce: 0.1520 (0.4423)  loss_bbox: 0.5606 (0.6793)  loss_giou: 0.4175 (0.4695)  loss_ce_0: 0.1533 (0.5924)  loss_bbox_0: 0.5573 (0.7358)  loss_giou_0: 0.4568 (0.5536)  loss_ce_1: 0.1365 (0.5532)  loss_bbox_1: 0.4563 (0.6894)  loss_giou_1: 0.4319 (0.4923)  loss_ce_2: 0.1395 (0.5061)  loss_bbox_2: 0.5383 (0.6829)  loss_giou_2: 0.4097 (0.4842)  loss_ce_3: 0.1358 (0.4749)  loss_bbox_3: 0.4521 (0.6735)  loss_giou_3: 0.4073 (0.4757)  loss_ce_4: 0.1430 (0.4626)  loss_bbox_4: 0.5562 (0.6773)  loss_giou_4: 0.4403 (0.4708)  loss_ce_unscaled: 0.1520 (0.4423)  class_error_unscaled: 100.0000 (83.3525)  loss_bbox_unscaled: 0.1121 (0.1359)  loss_giou_unscaled: 0.2087 (0.2347)  cardinality_error_unscaled: 0.2500 (14.7270)  loss_ce_0_unscaled: 0.1533 (0.5924)  loss_bbox_0_unscaled: 0.1115 (0.1472)  loss_giou_0_unscaled: 0.2284 (0.2768)  cardinality_error_0_unscaled: 0.2500 (23.2893)  loss_ce_1_unscaled: 0.1365 (0.5532)  loss_bbox_1_unscaled: 0.0913 (0.1379)  loss_giou_1_unscaled: 0.2159 (0.2462)  cardinality_error_1_unscaled: 0.2500 (20.6322)  loss_ce_2_unscaled: 0.1395 (0.5061)  loss_bbox_2_unscaled: 0.1077 (0.1366)  loss_giou_2_unscaled: 0.2049 (0.2421)  cardinality_error_2_unscaled: 0.2500 (18.5996)  loss_ce_3_unscaled: 0.1358 (0.4749)  loss_bbox_3_unscaled: 0.0904 (0.1347)  loss_giou_3_unscaled: 0.2036 (0.2379)  cardinality_error_3_unscaled: 0.2500 (16.8697)  loss_ce_4_unscaled: 0.1430 (0.4626)  loss_bbox_4_unscaled: 0.1112 (0.1355)  loss_giou_4_unscaled: 0.2202 (0.2354)  cardinality_error_4_unscaled: 0.2500 (15.9559)  time: 1.1506  data: 0.0114  max mem: 3519\n",
      "Epoch: [0]  [270/294]  eta: 0:00:27  lr: 0.000010  class_error: 100.00  loss: 6.4448 (9.9887)  loss_ce: 0.2638 (0.4349)  loss_bbox: 0.4237 (0.6713)  loss_giou: 0.3602 (0.4675)  loss_ce_0: 0.1952 (0.5777)  loss_bbox_0: 0.5590 (0.7270)  loss_giou_0: 0.4990 (0.5506)  loss_ce_1: 0.2036 (0.5399)  loss_bbox_1: 0.3878 (0.6822)  loss_giou_1: 0.3598 (0.4905)  loss_ce_2: 0.2108 (0.4948)  loss_bbox_2: 0.4159 (0.6757)  loss_giou_2: 0.3690 (0.4824)  loss_ce_3: 0.2267 (0.4652)  loss_bbox_3: 0.4263 (0.6661)  loss_giou_3: 0.3095 (0.4733)  loss_ce_4: 0.2387 (0.4537)  loss_bbox_4: 0.4212 (0.6685)  loss_giou_4: 0.3473 (0.4675)  loss_ce_unscaled: 0.2638 (0.4349)  class_error_unscaled: 100.0000 (83.9668)  loss_bbox_unscaled: 0.0847 (0.1343)  loss_giou_unscaled: 0.1801 (0.2338)  cardinality_error_unscaled: 0.5000 (14.2002)  loss_ce_0_unscaled: 0.1952 (0.5777)  loss_bbox_0_unscaled: 0.1118 (0.1454)  loss_giou_0_unscaled: 0.2495 (0.2753)  cardinality_error_0_unscaled: 0.5000 (22.4465)  loss_ce_1_unscaled: 0.2036 (0.5399)  loss_bbox_1_unscaled: 0.0776 (0.1364)  loss_giou_1_unscaled: 0.1799 (0.2452)  cardinality_error_1_unscaled: 0.5000 (19.8875)  loss_ce_2_unscaled: 0.2108 (0.4948)  loss_bbox_2_unscaled: 0.0832 (0.1351)  loss_giou_2_unscaled: 0.1845 (0.2412)  cardinality_error_2_unscaled: 0.5000 (17.9299)  loss_ce_3_unscaled: 0.2267 (0.4652)  loss_bbox_3_unscaled: 0.0853 (0.1332)  loss_giou_3_unscaled: 0.1548 (0.2366)  cardinality_error_3_unscaled: 0.5000 (16.2638)  loss_ce_4_unscaled: 0.2387 (0.4537)  loss_bbox_4_unscaled: 0.0842 (0.1337)  loss_giou_4_unscaled: 0.1736 (0.2337)  cardinality_error_4_unscaled: 0.5000 (15.3838)  time: 1.1610  data: 0.0114  max mem: 3519\n",
      "Epoch: [0]  [280/294]  eta: 0:00:16  lr: 0.000010  class_error: 100.00  loss: 7.9299 (9.9150)  loss_ce: 0.1414 (0.4271)  loss_bbox: 0.5845 (0.6727)  loss_giou: 0.5446 (0.4694)  loss_ce_0: 0.1397 (0.5637)  loss_bbox_0: 0.5733 (0.7218)  loss_giou_0: 0.5229 (0.5489)  loss_ce_1: 0.1304 (0.5270)  loss_bbox_1: 0.5682 (0.6814)  loss_giou_1: 0.4668 (0.4887)  loss_ce_2: 0.1262 (0.4837)  loss_bbox_2: 0.5669 (0.6742)  loss_giou_2: 0.4539 (0.4809)  loss_ce_3: 0.1342 (0.4554)  loss_bbox_3: 0.5982 (0.6667)  loss_giou_3: 0.5298 (0.4735)  loss_ce_4: 0.1373 (0.4446)  loss_bbox_4: 0.4940 (0.6678)  loss_giou_4: 0.4157 (0.4676)  loss_ce_unscaled: 0.1414 (0.4271)  class_error_unscaled: 100.0000 (84.5374)  loss_bbox_unscaled: 0.1169 (0.1345)  loss_giou_unscaled: 0.2723 (0.2347)  cardinality_error_unscaled: 0.2500 (13.7091)  loss_ce_0_unscaled: 0.1397 (0.5637)  loss_bbox_0_unscaled: 0.1147 (0.1444)  loss_giou_0_unscaled: 0.2615 (0.2745)  cardinality_error_0_unscaled: 0.2500 (21.6619)  loss_ce_1_unscaled: 0.1304 (0.5270)  loss_bbox_1_unscaled: 0.1136 (0.1363)  loss_giou_1_unscaled: 0.2334 (0.2444)  cardinality_error_1_unscaled: 0.2500 (19.1940)  loss_ce_2_unscaled: 0.1262 (0.4837)  loss_bbox_2_unscaled: 0.1134 (0.1348)  loss_giou_2_unscaled: 0.2269 (0.2405)  cardinality_error_2_unscaled: 0.2500 (17.3060)  loss_ce_3_unscaled: 0.1342 (0.4554)  loss_bbox_3_unscaled: 0.1196 (0.1333)  loss_giou_3_unscaled: 0.2649 (0.2368)  cardinality_error_3_unscaled: 0.2500 (15.6993)  loss_ce_4_unscaled: 0.1373 (0.4446)  loss_bbox_4_unscaled: 0.0988 (0.1336)  loss_giou_4_unscaled: 0.2078 (0.2338)  cardinality_error_4_unscaled: 0.2500 (14.8505)  time: 1.1681  data: 0.0112  max mem: 3519\n",
      "Epoch: [0]  [290/294]  eta: 0:00:04  lr: 0.000010  class_error: 100.00  loss: 6.5956 (9.7425)  loss_ce: 0.1428 (0.4207)  loss_bbox: 0.4353 (0.6594)  loss_giou: 0.3641 (0.4632)  loss_ce_0: 0.1403 (0.5512)  loss_bbox_0: 0.4758 (0.7124)  loss_giou_0: 0.3601 (0.5415)  loss_ce_1: 0.1304 (0.5157)  loss_bbox_1: 0.3856 (0.6685)  loss_giou_1: 0.3443 (0.4817)  loss_ce_2: 0.1358 (0.4742)  loss_bbox_2: 0.3849 (0.6610)  loss_giou_2: 0.3809 (0.4742)  loss_ce_3: 0.1354 (0.4472)  loss_bbox_3: 0.4033 (0.6527)  loss_giou_3: 0.2940 (0.4663)  loss_ce_4: 0.1398 (0.4370)  loss_bbox_4: 0.4053 (0.6544)  loss_giou_4: 0.3205 (0.4611)  loss_ce_unscaled: 0.1428 (0.4207)  class_error_unscaled: 100.0000 (85.0687)  loss_bbox_unscaled: 0.0871 (0.1319)  loss_giou_unscaled: 0.1821 (0.2316)  cardinality_error_unscaled: 0.2500 (13.2534)  loss_ce_0_unscaled: 0.1403 (0.5512)  loss_bbox_0_unscaled: 0.0952 (0.1425)  loss_giou_0_unscaled: 0.1800 (0.2708)  cardinality_error_0_unscaled: 0.2500 (20.9330)  loss_ce_1_unscaled: 0.1304 (0.5157)  loss_bbox_1_unscaled: 0.0771 (0.1337)  loss_giou_1_unscaled: 0.1721 (0.2409)  cardinality_error_1_unscaled: 0.2500 (18.5498)  loss_ce_2_unscaled: 0.1358 (0.4742)  loss_bbox_2_unscaled: 0.0770 (0.1322)  loss_giou_2_unscaled: 0.1905 (0.2371)  cardinality_error_2_unscaled: 0.2500 (16.7268)  loss_ce_3_unscaled: 0.1354 (0.4472)  loss_bbox_3_unscaled: 0.0807 (0.1305)  loss_giou_3_unscaled: 0.1470 (0.2332)  cardinality_error_3_unscaled: 0.2500 (15.1753)  loss_ce_4_unscaled: 0.1398 (0.4370)  loss_bbox_4_unscaled: 0.0811 (0.1309)  loss_giou_4_unscaled: 0.1603 (0.2305)  cardinality_error_4_unscaled: 0.2500 (14.3557)  time: 1.1759  data: 0.0115  max mem: 3519\n",
      "Epoch: [0]  [293/294]  eta: 0:00:01  lr: 0.000010  class_error: 100.00  loss: 6.9501 (9.7025)  loss_ce: 0.1428 (0.4195)  loss_bbox: 0.4353 (0.6562)  loss_giou: 0.3641 (0.4623)  loss_ce_0: 0.1403 (0.5480)  loss_bbox_0: 0.4758 (0.7095)  loss_giou_0: 0.3739 (0.5399)  loss_ce_1: 0.1379 (0.5129)  loss_bbox_1: 0.3856 (0.6652)  loss_giou_1: 0.4114 (0.4801)  loss_ce_2: 0.1364 (0.4720)  loss_bbox_2: 0.3844 (0.6576)  loss_giou_2: 0.3809 (0.4729)  loss_ce_3: 0.1354 (0.4454)  loss_bbox_3: 0.4033 (0.6493)  loss_giou_3: 0.2940 (0.4650)  loss_ce_4: 0.1398 (0.4353)  loss_bbox_4: 0.3491 (0.6513)  loss_giou_4: 0.3157 (0.4603)  loss_ce_unscaled: 0.1428 (0.4195)  class_error_unscaled: 100.0000 (85.2211)  loss_bbox_unscaled: 0.0871 (0.1312)  loss_giou_unscaled: 0.1821 (0.2311)  cardinality_error_unscaled: 0.2500 (13.1241)  loss_ce_0_unscaled: 0.1403 (0.5480)  loss_bbox_0_unscaled: 0.0952 (0.1419)  loss_giou_0_unscaled: 0.1870 (0.2699)  cardinality_error_0_unscaled: 0.2500 (20.7253)  loss_ce_1_unscaled: 0.1379 (0.5129)  loss_bbox_1_unscaled: 0.0771 (0.1330)  loss_giou_1_unscaled: 0.2057 (0.2401)  cardinality_error_1_unscaled: 0.2500 (18.3665)  loss_ce_2_unscaled: 0.1364 (0.4720)  loss_bbox_2_unscaled: 0.0769 (0.1315)  loss_giou_2_unscaled: 0.1905 (0.2365)  cardinality_error_2_unscaled: 0.2500 (16.5621)  loss_ce_3_unscaled: 0.1354 (0.4454)  loss_bbox_3_unscaled: 0.0807 (0.1299)  loss_giou_3_unscaled: 0.1470 (0.2325)  cardinality_error_3_unscaled: 0.2500 (15.0264)  loss_ce_4_unscaled: 0.1398 (0.4353)  loss_bbox_4_unscaled: 0.0698 (0.1303)  loss_giou_4_unscaled: 0.1578 (0.2301)  cardinality_error_4_unscaled: 0.2500 (14.2151)  time: 1.1941  data: 0.0116  max mem: 3519\n",
      "Epoch: [0] Total time: 0:05:40 (1.1574 s / it)\n",
      "Averaged stats: lr: 0.000010  class_error: 100.00  loss: 6.9501 (9.7025)  loss_ce: 0.1428 (0.4195)  loss_bbox: 0.4353 (0.6562)  loss_giou: 0.3641 (0.4623)  loss_ce_0: 0.1403 (0.5480)  loss_bbox_0: 0.4758 (0.7095)  loss_giou_0: 0.3739 (0.5399)  loss_ce_1: 0.1379 (0.5129)  loss_bbox_1: 0.3856 (0.6652)  loss_giou_1: 0.4114 (0.4801)  loss_ce_2: 0.1364 (0.4720)  loss_bbox_2: 0.3844 (0.6576)  loss_giou_2: 0.3809 (0.4729)  loss_ce_3: 0.1354 (0.4454)  loss_bbox_3: 0.4033 (0.6493)  loss_giou_3: 0.2940 (0.4650)  loss_ce_4: 0.1398 (0.4353)  loss_bbox_4: 0.3491 (0.6513)  loss_giou_4: 0.3157 (0.4603)  loss_ce_unscaled: 0.1428 (0.4195)  class_error_unscaled: 100.0000 (85.2211)  loss_bbox_unscaled: 0.0871 (0.1312)  loss_giou_unscaled: 0.1821 (0.2311)  cardinality_error_unscaled: 0.2500 (13.1241)  loss_ce_0_unscaled: 0.1403 (0.5480)  loss_bbox_0_unscaled: 0.0952 (0.1419)  loss_giou_0_unscaled: 0.1870 (0.2699)  cardinality_error_0_unscaled: 0.2500 (20.7253)  loss_ce_1_unscaled: 0.1379 (0.5129)  loss_bbox_1_unscaled: 0.0771 (0.1330)  loss_giou_1_unscaled: 0.2057 (0.2401)  cardinality_error_1_unscaled: 0.2500 (18.3665)  loss_ce_2_unscaled: 0.1364 (0.4720)  loss_bbox_2_unscaled: 0.0769 (0.1315)  loss_giou_2_unscaled: 0.1905 (0.2365)  cardinality_error_2_unscaled: 0.2500 (16.5621)  loss_ce_3_unscaled: 0.1354 (0.4454)  loss_bbox_3_unscaled: 0.0807 (0.1299)  loss_giou_3_unscaled: 0.1470 (0.2325)  cardinality_error_3_unscaled: 0.2500 (15.0264)  loss_ce_4_unscaled: 0.1398 (0.4353)  loss_bbox_4_unscaled: 0.0698 (0.1303)  loss_giou_4_unscaled: 0.1578 (0.2301)  cardinality_error_4_unscaled: 0.2500 (14.2151)\n",
      "Traceback (most recent call last):\n",
      "  File \"main.py\", line 250, in <module>\n",
      "    main(args)\n",
      "  File \"main.py\", line 217, in main\n",
      "    model, criterion, postprocessors, data_loader_val, base_ds, device, args.output_dir\n",
      "  File \"/anaconda/envs/azureml_py36/lib/python3.6/site-packages/torch/autograd/grad_mode.py\", line 27, in decorate_context\n",
      "    return func(*args, **kwargs)\n",
      "  File \"/mnt/batch/tasks/shared/LS_root/mounts/clusters/ai-model-training/code/Users/imaduako/detr/detr/engine.py\", line 77, in evaluate\n",
      "    coco_evaluator = CocoEvaluator(base_ds, iou_types)\n",
      "  File \"/mnt/batch/tasks/shared/LS_root/mounts/clusters/ai-model-training/code/Users/imaduako/detr/detr/datasets/coco_eval.py\", line 31, in __init__\n",
      "    self.coco_eval[iou_type] = COCOeval(coco_gt, iouType=iou_type)\n",
      "  File \"/anaconda/envs/azureml_py36/lib/python3.6/site-packages/pycocotools/cocoeval.py\", line 76, in __init__\n",
      "    self.params = Params(iouType=iouType) # parameters\n",
      "  File \"/anaconda/envs/azureml_py36/lib/python3.6/site-packages/pycocotools/cocoeval.py\", line 527, in __init__\n",
      "    self.setDetParams()\n",
      "  File \"/anaconda/envs/azureml_py36/lib/python3.6/site-packages/pycocotools/cocoeval.py\", line 507, in setDetParams\n",
      "    self.iouThrs = np.linspace(.5, 0.95, np.round((0.95 - .5) / .05) + 1, endpoint=True)\n",
      "  File \"<__array_function__ internals>\", line 6, in linspace\n",
      "  File \"/anaconda/envs/azureml_py36/lib/python3.6/site-packages/numpy/core/function_base.py\", line 113, in linspace\n",
      "    num = operator.index(num)\n",
      "TypeError: 'numpy.float64' object cannot be interpreted as an integer\n"
     ]
    }
   ],
   "source": [
    "!python main.py \\\n",
    "  --dataset_file {dataset_file} \\\n",
    "  --coco_path {dataDir} \\\n",
    "  --output_dir {outDir} \\\n",
    "  --resume {pretrained_file_dir} \\\n",
    "  --num_classes {num_classes} \\\n",
    "  --lr 1e-5 \\\n",
    "  --lr_backbone 1e-6 \\\n",
    "  --epochs {epochs} \\\n",
    "  --batch_size {batch_size}"
   ]
  },
  {
   "cell_type": "code",
   "execution_count": 1,
   "metadata": {},
   "outputs": [
    {
     "name": "stdout",
     "output_type": "stream",
     "text": [
      "1.19.5\n"
     ]
    }
   ],
   "source": [
    "import numpy as np\n",
    "print(np.__version__)"
   ]
  },
  {
   "cell_type": "code",
   "execution_count": null,
   "metadata": {},
   "outputs": [],
   "source": [
    "numpy 1.11.0"
   ]
  },
  {
   "cell_type": "markdown",
   "metadata": {
    "id": "lJc9GwGr7E08"
   },
   "source": [
    "## Results\n",
    "\n",
    "Quick and easy overview of the training results"
   ]
  },
  {
   "cell_type": "code",
   "execution_count": null,
   "metadata": {
    "id": "RU9BhuwuCGXo"
   },
   "outputs": [],
   "source": [
    "from util.plot_utils import plot_logs\n",
    "from pathlib import Path"
   ]
  },
  {
   "cell_type": "code",
   "execution_count": null,
   "metadata": {
    "id": "mdxGrmie7GE7"
   },
   "outputs": [],
   "source": [
    "log_directory = [Path(outDir)]"
   ]
  },
  {
   "cell_type": "code",
   "execution_count": null,
   "metadata": {
    "colab": {
     "base_uri": "https://localhost:8080/",
     "height": 336
    },
    "executionInfo": {
     "elapsed": 403,
     "status": "ok",
     "timestamp": 1678124683000,
     "user": {
      "displayName": "Om Gi",
      "userId": "17010805908415241739"
     },
     "user_tz": -390
    },
    "id": "7mxOj16m7i1o",
    "outputId": "47af98aa-aa49-4868-f0e3-c77c5be0cc63"
   },
   "outputs": [],
   "source": [
    "fields_of_interest = (\n",
    "    'loss',\n",
    "    'mAP',\n",
    "    )\n",
    "\n",
    "plot_logs(log_directory,\n",
    "          fields_of_interest)"
   ]
  },
  {
   "cell_type": "code",
   "execution_count": null,
   "metadata": {
    "colab": {
     "base_uri": "https://localhost:8080/",
     "height": 336
    },
    "executionInfo": {
     "elapsed": 618,
     "status": "ok",
     "timestamp": 1678124684017,
     "user": {
      "displayName": "Om Gi",
      "userId": "17010805908415241739"
     },
     "user_tz": -390
    },
    "id": "gPNrvsJO7izp",
    "outputId": "898ae8e4-4e2b-411c-8a91-044dbb028bcb"
   },
   "outputs": [],
   "source": [
    "# Visualize \n",
    "fields_of_interest = (\n",
    "    'loss_ce',\n",
    "    'loss_bbox',\n",
    "    'loss_giou',\n",
    "    )\n",
    "\n",
    "plot_logs(log_directory,\n",
    "          fields_of_interest)"
   ]
  },
  {
   "cell_type": "code",
   "execution_count": null,
   "metadata": {
    "colab": {
     "base_uri": "https://localhost:8080/",
     "height": 336
    },
    "executionInfo": {
     "elapsed": 636,
     "status": "ok",
     "timestamp": 1678124684648,
     "user": {
      "displayName": "Om Gi",
      "userId": "17010805908415241739"
     },
     "user_tz": -390
    },
    "id": "GRxYWQVI7ixB",
    "outputId": "bbb66cde-6f6b-4216-e211-d8b3e3f7adeb"
   },
   "outputs": [],
   "source": [
    "fields_of_interest = (\n",
    "    'class_error',\n",
    "    'cardinality_error_unscaled',\n",
    "    )\n",
    "\n",
    "plot_logs(log_directory,\n",
    "          fields_of_interest)   "
   ]
  },
  {
   "cell_type": "markdown",
   "metadata": {
    "id": "Pk7984OMCd2G"
   },
   "source": [
    "## Prediction on a single image"
   ]
  },
  {
   "cell_type": "code",
   "execution_count": null,
   "metadata": {
    "executionInfo": {
     "elapsed": 780,
     "status": "ok",
     "timestamp": 1678135498439,
     "user": {
      "displayName": "Om Gi",
      "userId": "17010805908415241739"
     },
     "user_tz": -390
    },
    "id": "TQGL_OEq7iqh"
   },
   "outputs": [],
   "source": [
    "import math\n",
    "\n",
    "from PIL import Image\n",
    "import requests\n",
    "import matplotlib.pyplot as plt\n",
    "%config InlineBackend.figure_format = 'retina'\n",
    "\n",
    "import ipywidgets as widgets\n",
    "from IPython.display import display, clear_output\n",
    "\n",
    "import torch\n",
    "from torch import nn\n",
    "from torchvision.models import resnet50\n",
    "import torchvision.transforms as T\n",
    "torch.set_grad_enabled(False);"
   ]
  },
  {
   "cell_type": "markdown",
   "metadata": {},
   "source": [
    "### Params"
   ]
  },
  {
   "cell_type": "code",
   "execution_count": null,
   "metadata": {},
   "outputs": [],
   "source": [
    "conf_threshold = 0.5\n",
    "\n",
    "# COCO classes\n",
    "CLASSES = ['N/A', 'school']\n",
    "\n",
    "# colors for visualization\n",
    "COLORS = [[0.000, 0.447, 0.741], [0.850, 0.325, 0.098], [0.929, 0.694, 0.125]]\n",
    "\n",
    "# standard PyTorch mean-std input image normalization\n",
    "transform = T.Compose([\n",
    "    T.Resize(800),\n",
    "    T.ToTensor(),\n",
    "    T.Normalize([0.485, 0.456, 0.406], [0.229, 0.224, 0.225])\n",
    "])"
   ]
  },
  {
   "cell_type": "markdown",
   "metadata": {
    "id": "kyFf-3vjJ32y"
   },
   "source": [
    "### Util functions"
   ]
  },
  {
   "cell_type": "code",
   "execution_count": null,
   "metadata": {
    "executionInfo": {
     "elapsed": 565,
     "status": "ok",
     "timestamp": 1678135507133,
     "user": {
      "displayName": "Om Gi",
      "userId": "17010805908415241739"
     },
     "user_tz": -390
    },
    "id": "FQY1ctnUJ3o0"
   },
   "outputs": [],
   "source": [
    "# util functions for output bounding box post-processing\n",
    "def box_cxcywh_to_xyxy(x):\n",
    "    x_c, y_c, w, h = x.unbind(1)\n",
    "    b = [(x_c - 0.5 * w), (y_c - 0.5 * h),\n",
    "         (x_c + 0.5 * w), (y_c + 0.5 * h)]\n",
    "    return torch.stack(b, dim=1)\n",
    "\n",
    "def rescale_bboxes(out_bbox, size):\n",
    "    img_w, img_h = size\n",
    "    b = box_cxcywh_to_xyxy(out_bbox)\n",
    "    b = b * torch.tensor([img_w, img_h, img_w, img_h], dtype=torch.float32)\n",
    "    return b\n",
    "\n",
    "def plot_results(pil_img, prob, boxes):\n",
    "    plt.figgure(figsize=(16,10))\n",
    "    plt.imshow(pil_img)\n",
    "    ax = plt.gca()\n",
    "    colors = COLORS * 100\n",
    "    for p, (xmin, ymin, xmax, ymax), c in zip(prob, boxes.tolist(), colors):\n",
    "        ax.add_patch(plt.Rectangle((xmin, ymin), xmax - xmin, ymax - ymin,\n",
    "                                   fill=False, color=c, linewidth=3))\n",
    "        cl = p.argmax()\n",
    "        text = f'{CLASSES[cl]}: {p[cl]:0.2f}'\n",
    "        ax.text(xmin, ymin, text, fontsize=15,\n",
    "                bbox=dict(facecolor='yellow', alpha=0.5))\n",
    "    plt.axis('off')\n",
    "    plt.show()"
   ]
  },
  {
   "cell_type": "markdown",
   "metadata": {
    "id": "fRS7_NDawjJ9"
   },
   "source": [
    "### Load trained model"
   ]
  },
  {
   "cell_type": "code",
   "execution_count": null,
   "metadata": {
    "id": "bdUBv-8mshi2"
   },
   "outputs": [],
   "source": [
    "trained_checkpoint_dir = os.path.join(outDir, \"checkpoint.pth\")\n",
    "\n",
    "# load checkpoint\n",
    "checkpoint = torch.load(trained_checkpoint_dir, map_location='cpu')\n",
    "\n",
    "# load model architecture\n",
    "model = torch.hub.load('facebookresearch/detr', \n",
    "                       'detr_resnet50', \n",
    "                       pretrained=False, \n",
    "                       num_classes=2)\n",
    "# load weights\n",
    "model.load_state_dict(checkpoint['model'], strict=False)"
   ]
  },
  {
   "cell_type": "markdown",
   "metadata": {
    "id": "2WsQ-3BEwxeW"
   },
   "source": [
    "### Read image and preprocess"
   ]
  },
  {
   "cell_type": "code",
   "execution_count": null,
   "metadata": {
    "executionInfo": {
     "elapsed": 5,
     "status": "ok",
     "timestamp": 1678137017653,
     "user": {
      "displayName": "Om Gi",
      "userId": "17010805908415241739"
     },
     "user_tz": -390
    },
    "id": "uskRqfAhvaEt"
   },
   "outputs": [],
   "source": [
    "# sample test image\n",
    "test_image_dir = 'test_images/gov_137.jpg'\n",
    "\n",
    "# read image\n",
    "im = Image.open(test_image_dir)\n",
    "\n",
    "# mean-std normalize the input image (batch-size: 1)\n",
    "img = transform(im).unsqueeze(0)"
   ]
  },
  {
   "cell_type": "code",
   "execution_count": null,
   "metadata": {
    "executionInfo": {
     "elapsed": 2445,
     "status": "ok",
     "timestamp": 1678137029306,
     "user": {
      "displayName": "Om Gi",
      "userId": "17010805908415241739"
     },
     "user_tz": -390
    },
    "id": "2iMHR06iwRI2"
   },
   "outputs": [],
   "source": [
    "# propagate through the model\n",
    "outputs = model(img)"
   ]
  },
  {
   "cell_type": "markdown",
   "metadata": {
    "id": "VwOYBmtiw0u1"
   },
   "source": [
    "### Post-process prediction results and visualize"
   ]
  },
  {
   "cell_type": "code",
   "execution_count": null,
   "metadata": {
    "id": "L59dXQ9II9BQ"
   },
   "outputs": [],
   "source": [
    "# keep only predictions with 0.7+ confidence\n",
    "probas = outputs['pred_logits'].softmax(-1)[0, :, :-1]\n",
    "keep = probas.max(-1).values > conf_threshold\n",
    "\n",
    "# convert boxes from [0; 1] to image scales\n",
    "bboxes_scaled = rescale_bboxes(outputs['pred_boxes'][0, keep], im.size)\n",
    "\n",
    "plot_results(im, probas[keep], bboxes_scaled)"
   ]
  }
 ],
 "metadata": {
  "colab": {
   "authorship_tag": "ABX9TyO/XiUHKOrqd48qcyXIRJNV",
   "collapsed_sections": [
    "DUBfaW0nI0WW",
    "iSaoEFg9_L6o",
    "iez6Wg428sKt",
    "KT-sXlWj83dS",
    "VivCSu2U2j3p",
    "t3Kcwwbl2_Ms"
   ],
   "mount_file_id": "1C-p_qKwq7BGb7BKZNG1S5saw_UT5Fjc3",
   "provenance": []
  },
  "gpuClass": "standard",
  "kernelspec": {
   "display_name": "Python 3.8 - Tensorflow",
   "language": "python",
   "name": "azureml_py38_tensorflow"
  },
  "language_info": {
   "codemirror_mode": {
    "name": "ipython",
    "version": 3
   },
   "file_extension": ".py",
   "mimetype": "text/x-python",
   "name": "python",
   "nbconvert_exporter": "python",
   "pygments_lexer": "ipython3",
   "version": "3.8.1"
  }
 },
 "nbformat": 4,
 "nbformat_minor": 4
}
