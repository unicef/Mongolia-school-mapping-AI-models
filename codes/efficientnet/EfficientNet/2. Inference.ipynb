{
 "cells": [
  {
   "cell_type": "markdown",
   "id": "b13dcd41",
   "metadata": {},
   "source": [
    "## Import packages"
   ]
  },
  {
   "cell_type": "code",
   "execution_count": null,
   "id": "cdbd49e5",
   "metadata": {},
   "outputs": [],
   "source": [
    "import torch\n",
    "from inference import inference"
   ]
  },
  {
   "cell_type": "markdown",
   "id": "d798c0a3",
   "metadata": {},
   "source": [
    "## Params"
   ]
  },
  {
   "cell_type": "code",
   "execution_count": null,
   "id": "66f0f5de",
   "metadata": {},
   "outputs": [],
   "source": [
    "test_image_folder = 'dataset/test'\n",
    "image_size = (256, 256)\n",
    "weight_filepath = 'weights/best_model_on_val_loss.pth'\n",
    "output_folder = 'prediction_outputs'\n",
    "mean = [0.485, 0.456, 0.406]\n",
    "std = [0.229, 0.224, 0.225]\n",
    "class_names = ['not_school', 'school']\n",
    "num_classes = len(class_names)\n",
    "efficientnet_version = 'b5'"
   ]
  },
  {
   "cell_type": "markdown",
   "id": "5e6a2602",
   "metadata": {},
   "source": [
    "## Inference"
   ]
  },
  {
   "cell_type": "code",
   "execution_count": null,
   "id": "2e7d7ed3",
   "metadata": {},
   "outputs": [],
   "source": [
    "inference(test_image_folder = test_image_folder,\n",
    "          image_size = image_size ,\n",
    "          weight_filepath = weight_filepath,\n",
    "          output_folder = output_folder,\n",
    "          mean = mean,\n",
    "          std = std,\n",
    "          class_names = class_names,\n",
    "          efficientnet_version = efficientnet_version)"
   ]
  }
 ],
 "metadata": {
  "kernelspec": {
   "display_name": "Python 3 (ipykernel)",
   "language": "python",
   "name": "python3"
  },
  "language_info": {
   "codemirror_mode": {
    "name": "ipython",
    "version": 3
   },
   "file_extension": ".py",
   "mimetype": "text/x-python",
   "name": "python",
   "nbconvert_exporter": "python",
   "pygments_lexer": "ipython3",
   "version": "3.9.10"
  }
 },
 "nbformat": 4,
 "nbformat_minor": 5
}
